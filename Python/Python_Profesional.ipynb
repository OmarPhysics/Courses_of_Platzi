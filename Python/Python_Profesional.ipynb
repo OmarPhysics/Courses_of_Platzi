{
  "nbformat": 4,
  "nbformat_minor": 0,
  "metadata": {
    "colab": {
      "name": "Python_Profesional.ipynb",
      "provenance": [],
      "authorship_tag": "ABX9TyPWsdNlh9A62jfadvXXJkoJ",
      "include_colab_link": true
    },
    "kernelspec": {
      "name": "python3",
      "display_name": "Python 3"
    },
    "language_info": {
      "name": "python"
    }
  },
  "cells": [
    {
      "cell_type": "markdown",
      "metadata": {
        "id": "view-in-github",
        "colab_type": "text"
      },
      "source": [
        "<a href=\"https://colab.research.google.com/github/OmarPhysics/Platzi_Courses/blob/main/Python/Python_Profesional.ipynb\" target=\"_parent\"><img src=\"https://colab.research.google.com/assets/colab-badge.svg\" alt=\"Open In Colab\"/></a>"
      ]
    },
    {
      "cell_type": "markdown",
      "source": [
        "## Python Profesional"
      ],
      "metadata": {
        "id": "Utiti2KYr25q"
      }
    },
    {
      "cell_type": "markdown",
      "source": [
        "### Palindromos"
      ],
      "metadata": {
        "id": "wMU4GmgIy3RB"
      }
    },
    {
      "cell_type": "code",
      "source": [
        "def is_palindrome(string: str) -> bool:\n",
        "    string = string.replace(' ', '').lower()\n",
        "    return string == string[::-1]\n",
        "\n",
        "\n",
        "def run():\n",
        "    word = str(input(\"Write a word or a sentence: \"))\n",
        "    result = is_palindrome(word)\n",
        "    print(result)\n",
        "\n",
        "\n",
        "if __name__ == '__main__':\n",
        "    run()"
      ],
      "metadata": {
        "colab": {
          "base_uri": "https://localhost:8080/"
        },
        "id": "eKuZ8xe1sBX8",
        "outputId": "66774381-bd09-4191-f59c-8baf772c3def"
      },
      "execution_count": 5,
      "outputs": [
        {
          "output_type": "stream",
          "name": "stdout",
          "text": [
            "Write a word or a sentence: anita lava la tina\n",
            "True\n"
          ]
        }
      ]
    },
    {
      "cell_type": "markdown",
      "source": [
        "### Closures and Scope"
      ],
      "metadata": {
        "id": "d-5_7LnqyarO"
      }
    },
    {
      "cell_type": "code",
      "source": [
        "def make_repeater_of(n):\n",
        "    def repeater(string):\n",
        "        assert type(string) == str, 'Solo puedes repetir cadenas'\n",
        "        return string * n\n",
        "    return repeater\n",
        "\n",
        "\n",
        "def run():\n",
        "    repeat_5 = make_repeater_of(5)\n",
        "    print(repeat_5('Hola'))\n",
        "    repeat_10 = make_repeater_of(10)\n",
        "    print(repeat_10(\"Mundo\"))\n",
        "\n",
        "\n",
        "if __name__ == '__main__':\n",
        "    run()"
      ],
      "metadata": {
        "id": "bIC3br0YyYQH",
        "outputId": "918c6922-ac9c-4d61-d41b-c5f6d9b3725e",
        "colab": {
          "base_uri": "https://localhost:8080/"
        }
      },
      "execution_count": 4,
      "outputs": [
        {
          "output_type": "stream",
          "name": "stdout",
          "text": [
            "HolaHolaHolaHolaHola\n",
            "MundoMundoMundoMundoMundoMundoMundoMundoMundoMundo\n"
          ]
        }
      ]
    }
  ]
}