{
  "nbformat": 4,
  "nbformat_minor": 0,
  "metadata": {
    "colab": {
      "name": "Python_Profesional.ipynb",
      "provenance": [],
      "authorship_tag": "ABX9TyPsHUNCzSqSVjqh3xajHTiP",
      "include_colab_link": true
    },
    "kernelspec": {
      "name": "python3",
      "display_name": "Python 3"
    },
    "language_info": {
      "name": "python"
    }
  },
  "cells": [
    {
      "cell_type": "markdown",
      "metadata": {
        "id": "view-in-github",
        "colab_type": "text"
      },
      "source": [
        "<a href=\"https://colab.research.google.com/github/OmarPhysics/Platzi_Courses/blob/main/Python/Python_Profesional.ipynb\" target=\"_parent\"><img src=\"https://colab.research.google.com/assets/colab-badge.svg\" alt=\"Open In Colab\"/></a>"
      ]
    },
    {
      "cell_type": "markdown",
      "source": [
        "## Python Profesional"
      ],
      "metadata": {
        "id": "Utiti2KYr25q"
      }
    },
    {
      "cell_type": "markdown",
      "source": [
        "### Palindromos"
      ],
      "metadata": {
        "id": "wMU4GmgIy3RB"
      }
    },
    {
      "cell_type": "code",
      "source": [
        "def is_palindrome(string: str) -> bool:\n",
        "    string = string.replace(' ', '').lower()\n",
        "    return string == string[::-1]\n",
        "\n",
        "\n",
        "def run():\n",
        "    word = str(input(\"Write a word or a sentence: \"))\n",
        "    result = is_palindrome(word)\n",
        "    print(result)\n",
        "\n",
        "\n",
        "if __name__ == '__main__':\n",
        "    run()"
      ],
      "metadata": {
        "colab": {
          "base_uri": "https://localhost:8080/"
        },
        "id": "eKuZ8xe1sBX8",
        "outputId": "66774381-bd09-4191-f59c-8baf772c3def"
      },
      "execution_count": 5,
      "outputs": [
        {
          "output_type": "stream",
          "name": "stdout",
          "text": [
            "Write a word or a sentence: anita lava la tina\n",
            "True\n"
          ]
        }
      ]
    },
    {
      "cell_type": "markdown",
      "source": [
        "### Closures and Scope"
      ],
      "metadata": {
        "id": "d-5_7LnqyarO"
      }
    },
    {
      "cell_type": "code",
      "source": [
        "def make_repeater_of(n):\n",
        "    def repeater(string):\n",
        "        assert type(string) == str, 'Solo puedes repetir cadenas'\n",
        "        return string * n\n",
        "    return repeater\n",
        "\n",
        "\n",
        "def run():\n",
        "    repeat_5 = make_repeater_of(5)\n",
        "    print(repeat_5('Hola'))\n",
        "    repeat_10 = make_repeater_of(10)\n",
        "    print(repeat_10(\"Mundo\"))\n",
        "\n",
        "\n",
        "if __name__ == '__main__':\n",
        "    run()"
      ],
      "metadata": {
        "colab": {
          "base_uri": "https://localhost:8080/"
        },
        "id": "bIC3br0YyYQH",
        "outputId": "918c6922-ac9c-4d61-d41b-c5f6d9b3725e"
      },
      "execution_count": 4,
      "outputs": [
        {
          "output_type": "stream",
          "name": "stdout",
          "text": [
            "HolaHolaHolaHolaHola\n",
            "MundoMundoMundoMundoMundoMundoMundoMundoMundoMundo\n"
          ]
        }
      ]
    },
    {
      "cell_type": "markdown",
      "source": [
        "### Decoradores"
      ],
      "metadata": {
        "id": "A1QtVaOq3lSF"
      }
    },
    {
      "cell_type": "code",
      "source": [
        "from datetime import datetime\n",
        "\n",
        "\n",
        "def execution_time(func):\n",
        "    def wrapper(*args, **kwargs):\n",
        "        initial_time = datetime.now()\n",
        "        func(*args, **kwargs)\n",
        "        final_time = datetime.now()\n",
        "        time_elapsed = final_time - initial_time\n",
        "        print(f'Pasaron {time_elapsed.total_seconds()} segundos')\n",
        "    return wrapper\n",
        "\n",
        "\n",
        "@execution_time\n",
        "def random_func():\n",
        "    for _ in range(1, 10000000):\n",
        "        pass\n",
        "\n",
        "\n",
        "random_func()"
      ],
      "metadata": {
        "colab": {
          "base_uri": "https://localhost:8080/"
        },
        "id": "Aj-F8L1X3oYN",
        "outputId": "908300f8-b211-4218-b40f-ce9f721297c3"
      },
      "execution_count": 6,
      "outputs": [
        {
          "output_type": "stream",
          "name": "stdout",
          "text": [
            "Pasaron 0.268466 segundos\n"
          ]
        }
      ]
    }
  ]
}