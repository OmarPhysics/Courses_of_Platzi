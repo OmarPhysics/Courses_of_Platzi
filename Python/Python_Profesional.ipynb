{
  "nbformat": 4,
  "nbformat_minor": 0,
  "metadata": {
    "colab": {
      "name": "Python_Profesional.ipynb",
      "provenance": [],
      "authorship_tag": "ABX9TyOLpZc8roDOGUzFCw6WFmI6",
      "include_colab_link": true
    },
    "kernelspec": {
      "name": "python3",
      "display_name": "Python 3"
    },
    "language_info": {
      "name": "python"
    }
  },
  "cells": [
    {
      "cell_type": "markdown",
      "metadata": {
        "id": "view-in-github",
        "colab_type": "text"
      },
      "source": [
        "<a href=\"https://colab.research.google.com/github/OmarPhysics/Platzi_Courses/blob/main/Python/Python_Profesional.ipynb\" target=\"_parent\"><img src=\"https://colab.research.google.com/assets/colab-badge.svg\" alt=\"Open In Colab\"/></a>"
      ]
    },
    {
      "cell_type": "markdown",
      "source": [
        "## Python Profesional"
      ],
      "metadata": {
        "id": "Utiti2KYr25q"
      }
    },
    {
      "cell_type": "code",
      "source": [
        "def is_palindrome(string: str) -> bool:\n",
        "    string = string.replace(' ', '').lower()\n",
        "    return string == string[::-1]\n",
        "\n",
        "\n",
        "def run():\n",
        "    word = str(input(\"Write a word or a sentence: \"))\n",
        "    result = is_palindrome(word)\n",
        "    print(result)\n",
        "\n",
        "\n",
        "if __name__ == '__main__':\n",
        "    run()"
      ],
      "metadata": {
        "colab": {
          "base_uri": "https://localhost:8080/"
        },
        "id": "eKuZ8xe1sBX8",
        "outputId": "69745cee-b891-489f-d56b-d18f782164d3"
      },
      "execution_count": 9,
      "outputs": [
        {
          "output_type": "stream",
          "name": "stdout",
          "text": [
            "Write a word or a sentence: anita lava la tina\n",
            "True\n"
          ]
        }
      ]
    }
  ]
}