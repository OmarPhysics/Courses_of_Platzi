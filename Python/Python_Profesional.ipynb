{
  "nbformat": 4,
  "nbformat_minor": 0,
  "metadata": {
    "colab": {
      "name": "Python_Profesional.ipynb",
      "provenance": [],
      "include_colab_link": true
    },
    "kernelspec": {
      "name": "python3",
      "display_name": "Python 3"
    },
    "language_info": {
      "name": "python"
    }
  },
  "cells": [
    {
      "cell_type": "markdown",
      "metadata": {
        "id": "view-in-github",
        "colab_type": "text"
      },
      "source": [
        "<a href=\"https://colab.research.google.com/github/OmarPhysics/Platzi_Courses/blob/main/Python/Python_Profesional.ipynb\" target=\"_parent\"><img src=\"https://colab.research.google.com/assets/colab-badge.svg\" alt=\"Open In Colab\"/></a>"
      ]
    },
    {
      "cell_type": "markdown",
      "source": [
        "## Python Profesional"
      ],
      "metadata": {
        "id": "Utiti2KYr25q"
      }
    },
    {
      "cell_type": "markdown",
      "source": [
        "### Palindromos"
      ],
      "metadata": {
        "id": "wMU4GmgIy3RB"
      }
    },
    {
      "cell_type": "code",
      "source": [
        "def is_palindrome(string: str) -> bool:\n",
        "    string = string.replace(' ', '').lower()\n",
        "    return string == string[::-1]\n",
        "\n",
        "\n",
        "def run():\n",
        "    word = str(input(\"Write a word or a sentence: \"))\n",
        "    result = is_palindrome(word)\n",
        "    print(result)\n",
        "\n",
        "\n",
        "if __name__ == '__main__':\n",
        "    run()"
      ],
      "metadata": {
        "colab": {
          "base_uri": "https://localhost:8080/"
        },
        "id": "eKuZ8xe1sBX8",
        "outputId": "66774381-bd09-4191-f59c-8baf772c3def"
      },
      "execution_count": null,
      "outputs": [
        {
          "output_type": "stream",
          "name": "stdout",
          "text": [
            "Write a word or a sentence: anita lava la tina\n",
            "True\n"
          ]
        }
      ]
    },
    {
      "cell_type": "markdown",
      "source": [
        "### Closures and Scope"
      ],
      "metadata": {
        "id": "d-5_7LnqyarO"
      }
    },
    {
      "cell_type": "code",
      "source": [
        "def make_repeater_of(n):\n",
        "    def repeater(string):\n",
        "        assert type(string) == str, 'Solo puedes repetir cadenas'\n",
        "        return string * n\n",
        "    return repeater\n",
        "\n",
        "\n",
        "def run():\n",
        "    repeat_5 = make_repeater_of(5)\n",
        "    print(repeat_5('Hola'))\n",
        "    repeat_10 = make_repeater_of(10)\n",
        "    print(repeat_10(\"Mundo\"))\n",
        "\n",
        "\n",
        "if __name__ == '__main__':\n",
        "    run()"
      ],
      "metadata": {
        "colab": {
          "base_uri": "https://localhost:8080/"
        },
        "id": "bIC3br0YyYQH",
        "outputId": "918c6922-ac9c-4d61-d41b-c5f6d9b3725e"
      },
      "execution_count": null,
      "outputs": [
        {
          "output_type": "stream",
          "name": "stdout",
          "text": [
            "HolaHolaHolaHolaHola\n",
            "MundoMundoMundoMundoMundoMundoMundoMundoMundoMundo\n"
          ]
        }
      ]
    },
    {
      "cell_type": "markdown",
      "source": [
        "### Decoradores"
      ],
      "metadata": {
        "id": "A1QtVaOq3lSF"
      }
    },
    {
      "cell_type": "code",
      "source": [
        "from datetime import datetime\n",
        "\n",
        "\n",
        "def execution_time(func):\n",
        "    def wrapper(*args, **kwargs):\n",
        "        initial_time = datetime.now()\n",
        "        func(*args, **kwargs)\n",
        "        final_time = datetime.now()\n",
        "        time_elapsed = final_time - initial_time\n",
        "        print(f'Pasaron {time_elapsed.total_seconds()} segundos')\n",
        "    return wrapper\n",
        "\n",
        "\n",
        "@execution_time\n",
        "def random_func():\n",
        "    for _ in range(1, 10000000):\n",
        "        pass\n",
        "\n",
        "\n",
        "random_func()"
      ],
      "metadata": {
        "colab": {
          "base_uri": "https://localhost:8080/"
        },
        "id": "Aj-F8L1X3oYN",
        "outputId": "908300f8-b211-4218-b40f-ce9f721297c3"
      },
      "execution_count": null,
      "outputs": [
        {
          "output_type": "stream",
          "name": "stdout",
          "text": [
            "Pasaron 0.268466 segundos\n"
          ]
        }
      ]
    },
    {
      "cell_type": "markdown",
      "source": [
        "### Iteradores"
      ],
      "metadata": {
        "id": "V4q_M5lHYvwV"
      }
    },
    {
      "cell_type": "code",
      "source": [
        "import time\n",
        "\n",
        "class FiboIter():\n",
        "\n",
        "    def __iter__(self):\n",
        "        self.n1 = 0\n",
        "        self.n2 = 1\n",
        "        self.counter = 0\n",
        "        return self\n",
        "\n",
        "    def __next__(self):\n",
        "        if self.counter == 0:\n",
        "            self.counter += 1\n",
        "            return self.n1\n",
        "        elif self.counter == 1:\n",
        "            self.counter += 1\n",
        "            return self.n2\n",
        "        else:\n",
        "            self.aux = self.n1 + self.n2\n",
        "            # self.n1 = self.n2\n",
        "            # self.n2 = self.aux\n",
        "            self.n1, self.n2 = self.n2, self.aux\n",
        "            self.counter += 1\n",
        "            return self.aux\n",
        "\n",
        "if __name__ == '__main__':\n",
        "    fibonacci = FiboIter()\n",
        "    for element in fibonacci:\n",
        "        print(element)\n",
        "        time.sleep(1)"
      ],
      "metadata": {
        "id": "pw5X3pVQYxO-",
        "outputId": "cecfc1d1-231a-42ee-a572-68c7592a8f34",
        "colab": {
          "base_uri": "https://localhost:8080/",
          "height": 1000
        }
      },
      "execution_count": null,
      "outputs": [
        {
          "output_type": "stream",
          "name": "stdout",
          "text": [
            "0\n",
            "1\n",
            "1\n",
            "2\n",
            "3\n",
            "5\n",
            "8\n",
            "13\n",
            "21\n",
            "34\n",
            "55\n",
            "89\n",
            "144\n",
            "233\n",
            "377\n",
            "610\n",
            "987\n",
            "1597\n",
            "2584\n",
            "4181\n",
            "6765\n",
            "10946\n",
            "17711\n",
            "28657\n",
            "46368\n",
            "75025\n",
            "121393\n",
            "196418\n",
            "317811\n",
            "514229\n",
            "832040\n",
            "1346269\n",
            "2178309\n",
            "3524578\n",
            "5702887\n",
            "9227465\n",
            "14930352\n",
            "24157817\n",
            "39088169\n",
            "63245986\n",
            "102334155\n",
            "165580141\n",
            "267914296\n",
            "433494437\n",
            "701408733\n",
            "1134903170\n",
            "1836311903\n",
            "2971215073\n",
            "4807526976\n",
            "7778742049\n",
            "12586269025\n",
            "20365011074\n",
            "32951280099\n",
            "53316291173\n",
            "86267571272\n",
            "139583862445\n",
            "225851433717\n",
            "365435296162\n",
            "591286729879\n",
            "956722026041\n",
            "1548008755920\n",
            "2504730781961\n",
            "4052739537881\n",
            "6557470319842\n",
            "10610209857723\n",
            "17167680177565\n",
            "27777890035288\n",
            "44945570212853\n",
            "72723460248141\n",
            "117669030460994\n",
            "190392490709135\n",
            "308061521170129\n",
            "498454011879264\n",
            "806515533049393\n",
            "1304969544928657\n",
            "2111485077978050\n"
          ]
        },
        {
          "output_type": "error",
          "ename": "KeyboardInterrupt",
          "evalue": "ignored",
          "traceback": [
            "\u001b[0;31m---------------------------------------------------------------------------\u001b[0m",
            "\u001b[0;31mKeyboardInterrupt\u001b[0m                         Traceback (most recent call last)",
            "\u001b[0;32m<ipython-input-2-b9b70f179eec>\u001b[0m in \u001b[0;36m<module>\u001b[0;34m()\u001b[0m\n\u001b[1;32m     28\u001b[0m     \u001b[0;32mfor\u001b[0m \u001b[0melement\u001b[0m \u001b[0;32min\u001b[0m \u001b[0mfibonacci\u001b[0m\u001b[0;34m:\u001b[0m\u001b[0;34m\u001b[0m\u001b[0;34m\u001b[0m\u001b[0m\n\u001b[1;32m     29\u001b[0m         \u001b[0mprint\u001b[0m\u001b[0;34m(\u001b[0m\u001b[0melement\u001b[0m\u001b[0;34m)\u001b[0m\u001b[0;34m\u001b[0m\u001b[0;34m\u001b[0m\u001b[0m\n\u001b[0;32m---> 30\u001b[0;31m         \u001b[0mtime\u001b[0m\u001b[0;34m.\u001b[0m\u001b[0msleep\u001b[0m\u001b[0;34m(\u001b[0m\u001b[0;36m1\u001b[0m\u001b[0;34m)\u001b[0m\u001b[0;34m\u001b[0m\u001b[0;34m\u001b[0m\u001b[0m\n\u001b[0m",
            "\u001b[0;31mKeyboardInterrupt\u001b[0m: "
          ]
        }
      ]
    },
    {
      "cell_type": "markdown",
      "source": [
        "### Generadores "
      ],
      "metadata": {
        "id": "amJXpWXgniGv"
      }
    },
    {
      "cell_type": "code",
      "source": [
        "import time\n",
        "\n",
        "def fibo_gen():\n",
        "    n1 = 0\n",
        "    n2 = 1\n",
        "    counter = 0\n",
        "    while True:\n",
        "        if counter == 0:\n",
        "            counter += 1\n",
        "            yield n1\n",
        "        elif counter == 1:\n",
        "            counter += 1\n",
        "            yield n2\n",
        "        else:\n",
        "            aux = n1 + n2\n",
        "            n1, n2 = n2, aux\n",
        "            counter += 1\n",
        "            yield aux\n",
        "\n",
        "if __name__ == '__main__':\n",
        "    fibonacci = fibo_gen()\n",
        "    for element in fibonacci:\n",
        "        print(element)\n",
        "        time.sleep(1)"
      ],
      "metadata": {
        "id": "Ne5CAGC4nnCO",
        "outputId": "6e0ddd50-fa19-470b-eb83-2211d7bb5ddd",
        "colab": {
          "base_uri": "https://localhost:8080/",
          "height": 321
        }
      },
      "execution_count": null,
      "outputs": [
        {
          "output_type": "stream",
          "name": "stdout",
          "text": [
            "0\n",
            "1\n",
            "1\n",
            "2\n",
            "3\n",
            "5\n",
            "8\n"
          ]
        },
        {
          "output_type": "error",
          "ename": "KeyboardInterrupt",
          "evalue": "ignored",
          "traceback": [
            "\u001b[0;31m---------------------------------------------------------------------------\u001b[0m",
            "\u001b[0;31mKeyboardInterrupt\u001b[0m                         Traceback (most recent call last)",
            "\u001b[0;32m<ipython-input-3-6be682df0c50>\u001b[0m in \u001b[0;36m<module>\u001b[0;34m()\u001b[0m\n\u001b[1;32m     22\u001b[0m     \u001b[0;32mfor\u001b[0m \u001b[0melement\u001b[0m \u001b[0;32min\u001b[0m \u001b[0mfibonacci\u001b[0m\u001b[0;34m:\u001b[0m\u001b[0;34m\u001b[0m\u001b[0;34m\u001b[0m\u001b[0m\n\u001b[1;32m     23\u001b[0m         \u001b[0mprint\u001b[0m\u001b[0;34m(\u001b[0m\u001b[0melement\u001b[0m\u001b[0;34m)\u001b[0m\u001b[0;34m\u001b[0m\u001b[0;34m\u001b[0m\u001b[0m\n\u001b[0;32m---> 24\u001b[0;31m         \u001b[0mtime\u001b[0m\u001b[0;34m.\u001b[0m\u001b[0msleep\u001b[0m\u001b[0;34m(\u001b[0m\u001b[0;36m1\u001b[0m\u001b[0;34m)\u001b[0m\u001b[0;34m\u001b[0m\u001b[0;34m\u001b[0m\u001b[0m\n\u001b[0m",
            "\u001b[0;31mKeyboardInterrupt\u001b[0m: "
          ]
        }
      ]
    },
    {
      "cell_type": "markdown",
      "source": [
        "### Conjuntos"
      ],
      "metadata": {
        "id": "5I-6Pd5Qi5Bh"
      }
    },
    {
      "cell_type": "code",
      "source": [
        "def remove_duplicates(some_list):\n",
        "    without_duplicates = []\n",
        "    for element in some_list:\n",
        "        if element not in without_duplicates:\n",
        "            without_duplicates.append(element)\n",
        "    return without_duplicates\n",
        "\n",
        "def remove_duplicates_with_sets(some_list):\n",
        "    return list(set(some_list))\n",
        "\n",
        "def run():\n",
        "    random_list = [1, 2, 2, 2, 3, \"Platzi\", \"Platzi\", True, 4.6, False]\n",
        "    print(remove_duplicates(random_list))\n",
        "\n",
        "\n",
        "if __name__ == '__main__':\n",
        "    run()"
      ],
      "metadata": {
        "id": "8S2VKk68i8Fm",
        "outputId": "952b27c2-fc0a-4e4c-8765-1d6d774844af",
        "colab": {
          "base_uri": "https://localhost:8080/"
        }
      },
      "execution_count": 1,
      "outputs": [
        {
          "output_type": "stream",
          "name": "stdout",
          "text": [
            "[1, 2, 3, 'Platzi', 4.6, False]\n"
          ]
        }
      ]
    }
  ]
}