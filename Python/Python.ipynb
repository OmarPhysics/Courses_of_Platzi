{
  "nbformat": 4,
  "nbformat_minor": 0,
  "metadata": {
    "colab": {
      "name": "Python.ipynb",
      "provenance": [],
      "include_colab_link": true
    },
    "kernelspec": {
      "name": "python3",
      "display_name": "Python 3"
    },
    "language_info": {
      "name": "python"
    }
  },
  "cells": [
    {
      "cell_type": "markdown",
      "metadata": {
        "id": "view-in-github",
        "colab_type": "text"
      },
      "source": [
        "<a href=\"https://colab.research.google.com/github/OmarPhysics/Platzi_Courses/blob/main/Python/Python.ipynb\" target=\"_parent\"><img src=\"https://colab.research.google.com/assets/colab-badge.svg\" alt=\"Open In Colab\"/></a>"
      ]
    },
    {
      "cell_type": "markdown",
      "source": [
        "# Programas Sencillos en Python"
      ],
      "metadata": {
        "id": "uiGH8Fu0LTi2"
      }
    },
    {
      "cell_type": "markdown",
      "source": [
        "### 01 - Conversor de pesos a dolares"
      ],
      "metadata": {
        "id": "zjRTyeqyLhvu"
      }
    },
    {
      "cell_type": "code",
      "execution_count": null,
      "metadata": {
        "id": "S_zBEQnU3w9S",
        "colab": {
          "base_uri": "https://localhost:8080/"
        },
        "outputId": "e55a6ca3-3faa-4ff5-da15-bd3aa8521462"
      },
      "outputs": [
        {
          "output_type": "stream",
          "name": "stdout",
          "text": [
            "\n",
            "Bienvenido al conversor de monedas 💰\n",
            "\n",
            "1 - Pesos colombianos\n",
            "2 - Pesos argentinos\n",
            "3 - Pesos mexicanos\n",
            "\n",
            "Elige una opción: 2\n",
            "¿Cuántos pesos argentinos tienes?: 5000\n",
            "Tienes $76.92 dólares\n"
          ]
        }
      ],
      "source": [
        "# Defininición de la función que transforma pesos a dolares\n",
        "\n",
        "def conversor(tipo_pesos, valor_dolar):\n",
        "    pesos = input(\"¿Cuántos pesos \" + tipo_pesos + \" tienes?: \")\n",
        "    pesos = float(pesos)\n",
        "    dolares = pesos / valor_dolar\n",
        "    dolares = round(dolares, 2)\n",
        "    dolares = str(dolares)\n",
        "    print(\"Tienes $\" + dolares + \" dólares\")\n",
        "\n",
        " # Menu para el usiario.    \n",
        "\n",
        "menu = \"\"\"\n",
        "Bienvenido al conversor de monedas 💰\n",
        "\n",
        "1 - Pesos colombianos\n",
        "2 - Pesos argentinos\n",
        "3 - Pesos mexicanos\n",
        "\n",
        "Elige una opción: \"\"\"\n",
        "\n",
        "opcion = input(menu)\n",
        "opcion = int(opcion)\n",
        "\n",
        "if opcion == 1:\n",
        "    conversor(\"colombianos\", 3875)  # 3875 pesos colombianos son un dolar\n",
        "elif opcion == 2:\n",
        "    conversor(\"argentinos\", 65)     # 65 pesos argentinos son un dolar\n",
        "elif opcion == 3:\n",
        "    conversor(\"mexicanos\", 24)      # 24 pesoso mexicanos son un dolar\n",
        "else:\n",
        "    print('Ingresa una opción correcta por favor')  # Si no se ingresa un valor del menu indicar que no es una opción correcta"
      ]
    },
    {
      "cell_type": "markdown",
      "source": [
        "### 02 - Palíndromos"
      ],
      "metadata": {
        "id": "2yf1oOa-Zvbj"
      }
    },
    {
      "cell_type": "code",
      "source": [
        "# Definición de la función palíndromo\n",
        "\n",
        "def palindromo(palabra):\n",
        "    palabra = palabra.replace(' ', '')   # Remplazar los espacios de la frase introducida por \"nada\", es decir, eliminar espacios\n",
        "    palabra = palabra.lower()            # Transformar toda la frase a minusculas\n",
        "    palabra_invertida = palabra[::-1]    # Invertir la frase y almacenarla en otra variable\n",
        "    if palabra == palabra_invertida:     # Si la frase original y la invertida son iguales regresar \"verdadero\" y si no lo son regresar \"falso\"\n",
        "        return True\n",
        "    else:\n",
        "        return False\n",
        "\n",
        "# Definición de la función que muestra si es la frase o palabra es un palíndromo o no\n",
        "\n",
        "def run():\n",
        "    palabra = input('Escribe una palabra o frase: ')   # Se solicita el ingreso de una frase\n",
        "    es_palindromo = palindromo(palabra)                # Se introduce la frase o palabra a la función \"palabra\" y se muestra en pantalla el resultado\n",
        "    if es_palindromo == True: \n",
        "        print('Es palíndromo')\n",
        "    else:\n",
        "        print('No es palíndromo')\n",
        "\n",
        "\n",
        "if __name__ == '__main__':\n",
        "    run()"
      ],
      "metadata": {
        "id": "_mg9j0uXMAx8",
        "colab": {
          "base_uri": "https://localhost:8080/"
        },
        "outputId": "954a45d1-ee4d-4dbe-c111-fd2af2d9a10f"
      },
      "execution_count": null,
      "outputs": [
        {
          "output_type": "stream",
          "name": "stdout",
          "text": [
            "Escribe una palabra o frase: ola\n",
            "No es palíndromo\n"
          ]
        }
      ]
    },
    {
      "cell_type": "markdown",
      "source": [
        "### 03 - Potencias de 2"
      ],
      "metadata": {
        "id": "9RNUhK_GkDIZ"
      }
    },
    {
      "cell_type": "code",
      "source": [
        "# Definición de la función \n",
        "\n",
        "def run():\n",
        "    LIMITE = 1000000                           # Se define una constante usando mayúsculas\n",
        "\n",
        "    contador = 0                                 # Se define una variable que comienza con el valor cero\n",
        "    potencia_2 = 2**contador                     # Se define la operación potencia \n",
        "    while potencia_2 < LIMITE:                   # Ciclo \"while\" para determinar las potencias de 2 mientras que el valor no exceda la constante LIMITE\n",
        "        print('2 elevado a ' + str(contador) +\n",
        "              ' es igual a: ' + str(potencia_2))\n",
        "        contador = contador + 1\n",
        "        potencia_2 = 2**contador\n",
        "\n",
        "\n",
        "if __name__ == '__main__':\n",
        "    run()"
      ],
      "metadata": {
        "id": "o1v5dneskTMO",
        "outputId": "8f341098-6144-4272-97f3-f0390e2a80d4",
        "colab": {
          "base_uri": "https://localhost:8080/"
        }
      },
      "execution_count": null,
      "outputs": [
        {
          "output_type": "stream",
          "name": "stdout",
          "text": [
            "2 elevado a 0 es igual a: 1\n",
            "2 elevado a 1 es igual a: 2\n",
            "2 elevado a 2 es igual a: 4\n",
            "2 elevado a 3 es igual a: 8\n",
            "2 elevado a 4 es igual a: 16\n",
            "2 elevado a 5 es igual a: 32\n",
            "2 elevado a 6 es igual a: 64\n",
            "2 elevado a 7 es igual a: 128\n",
            "2 elevado a 8 es igual a: 256\n",
            "2 elevado a 9 es igual a: 512\n",
            "2 elevado a 10 es igual a: 1024\n",
            "2 elevado a 11 es igual a: 2048\n",
            "2 elevado a 12 es igual a: 4096\n",
            "2 elevado a 13 es igual a: 8192\n",
            "2 elevado a 14 es igual a: 16384\n",
            "2 elevado a 15 es igual a: 32768\n",
            "2 elevado a 16 es igual a: 65536\n",
            "2 elevado a 17 es igual a: 131072\n",
            "2 elevado a 18 es igual a: 262144\n",
            "2 elevado a 19 es igual a: 524288\n"
          ]
        }
      ]
    },
    {
      "cell_type": "markdown",
      "source": [
        "### 04 - Números Primos"
      ],
      "metadata": {
        "id": "VAwZ3CdXxGdy"
      }
    },
    {
      "cell_type": "code",
      "source": [
        "def es_primo(numero):\n",
        "    contador = 0\n",
        "\n",
        "    for i in range(1, numero + 1):\n",
        "        if i == 1 or i == numero:\n",
        "            continue\n",
        "        if numero % i == 0:\n",
        "            contador += 1\n",
        "    if contador == 0:\n",
        "        return True\n",
        "    else:\n",
        "        return False\n",
        "\n",
        "\n",
        "def run():\n",
        "    numero = int(input('Escribe un número: '))\n",
        "    if es_primo(numero):\n",
        "        print('Es primo')\n",
        "    else:\n",
        "        print('No es primo')\n",
        "\n",
        "\n",
        "if __name__ == '__main__':\n",
        "    run()"
      ],
      "metadata": {
        "id": "FJpl3VyHxOxE",
        "outputId": "563cd73c-cba9-4154-e744-0f12adccf9c2",
        "colab": {
          "base_uri": "https://localhost:8080/"
        }
      },
      "execution_count": null,
      "outputs": [
        {
          "output_type": "stream",
          "name": "stdout",
          "text": [
            "Escribe un número: 79\n",
            "Es primo\n"
          ]
        }
      ]
    },
    {
      "cell_type": "markdown",
      "source": [
        "### 05 - Adivina el Número"
      ],
      "metadata": {
        "id": "KJgujU2z0I6i"
      }
    },
    {
      "cell_type": "code",
      "source": [
        "import random   # Importación de un Módulo de Python \n",
        "\n",
        "\n",
        "def run():\n",
        "    numero_aleatorio = random.randint(1, 100)\n",
        "    numero_elegido = int(input('Elige un número del 1 al 100: '))\n",
        "    while numero_elegido != numero_aleatorio:\n",
        "        if numero_elegido < numero_aleatorio:\n",
        "            print('Busca un número más grande')\n",
        "        else:\n",
        "            print('Busca un número más pequeño')\n",
        "        numero_elegido = int(input('Elige otro número: '))\n",
        "    print('¡Ganaste!')\n",
        "\n",
        "\n",
        "if __name__ == '__main__':\n",
        "    run()"
      ],
      "metadata": {
        "id": "jqphSzar0NhG",
        "outputId": "d52889ab-ae53-4f66-ef1d-a27cfe72cbc0",
        "colab": {
          "base_uri": "https://localhost:8080/"
        }
      },
      "execution_count": null,
      "outputs": [
        {
          "output_type": "stream",
          "name": "stdout",
          "text": [
            "Elige un número del 1 al 100: 75\n",
            "Busca un número más pequeño\n",
            "Elige otro número: 20\n",
            "Busca un número más pequeño\n",
            "Elige otro número: 10\n",
            "Busca un número más pequeño\n",
            "Elige otro número: 3\n",
            "¡Ganaste!\n"
          ]
        }
      ]
    },
    {
      "cell_type": "markdown",
      "source": [
        "### 06 - Generador de Contraseñas"
      ],
      "metadata": {
        "id": "vMXefwMO6SWQ"
      }
    },
    {
      "cell_type": "code",
      "source": [
        "import random\n",
        "\n",
        "\n",
        "def generar_contrasena():\n",
        "    mayusculas = ['A', 'B', 'C', 'D', 'E', 'F', 'G','H', 'I', 'J', 'K', 'L', 'M', 'N','O', 'P', 'Q', 'R', 'S', 'T', 'U','V', 'W', 'X', 'Y', 'Z']\n",
        "    minusculas = ['a', 'b', 'c', 'd', 'e', 'f', 'g','h', 'i', 'j', 'k', 'l', 'm', 'n','o', 'p', 'q', 'r', 's', 't', 'u','v', 'w', 'x', 'y', 'z']\n",
        "    simbolos = ['!', '#', '$', '&', '/', '(', ')', '%', '[', ']', '+', '*', '{', '}']\n",
        "    numeros = ['1', '2', '3', '4', '5', '6', '7', '8', '9', '0']\n",
        "\n",
        "    caracteres = mayusculas + minusculas + simbolos + numeros\n",
        "\n",
        "    contrasena = []\n",
        "\n",
        "    for i in range(15):\n",
        "        caracter_random = random.choice(caracteres)\n",
        "        contrasena.append(caracter_random)\n",
        "\n",
        "    contrasena = \"\".join(contrasena)\n",
        "    return contrasena\n",
        "\n",
        "\n",
        "def run():\n",
        "    contrasena = generar_contrasena()\n",
        "    print('Tu nueva contraseña es: ' + contrasena)\n",
        "\n",
        "\n",
        "if __name__ == '__main__':\n",
        "    run()"
      ],
      "metadata": {
        "id": "4gyTi3-N6SrH",
        "outputId": "fa87394c-e1d4-46c4-e9c1-ea7c07e5cd55",
        "colab": {
          "base_uri": "https://localhost:8080/"
        }
      },
      "execution_count": null,
      "outputs": [
        {
          "output_type": "stream",
          "name": "stdout",
          "text": [
            "Tu nueva contraseña es: w2JqXlvv$LYIK*u\n"
          ]
        }
      ]
    },
    {
      "cell_type": "markdown",
      "source": [
        "### 06 - Diccionarios con listas y listas con diccionarios"
      ],
      "metadata": {
        "id": "cKcp8fkOYWU3"
      }
    },
    {
      "cell_type": "code",
      "source": [
        "def run():\n",
        "    my_list = [1, \"Hello\", True, 4.5]\n",
        "    my_dict = {\"firstname\": \"Facundo\", \"lastname\": \"García\"}\n",
        "\n",
        "    # Lista con diccionarios.\n",
        "\n",
        "    super_list = [\n",
        "        {\"firstname\": \"Facundo\", \"lastname\": \"García\"},\n",
        "        {\"firstname\": \"Miguel\", \"lastname\": \"Rodriguez\"},\n",
        "        {\"firstname\": \"Pablo\", \"lastname\": \"Trinidad\"},\n",
        "        {\"firstname\": \"Susana\", \"lastname\": \"Martinez\"},\n",
        "        {\"firstname\": \"José\", \"lastname\": \"Fernandez\"},\n",
        "    ]\n",
        "\n",
        "    # Diccionario con listas.\n",
        "\n",
        "    super_dict = {\n",
        "        \"natural_nums\": [1, 2, 3, 4, 5],\n",
        "        \"integer_nums\": [-1, -2, 3, 0, 1],\n",
        "        \"floating_nums\": [1.1, 4.55, 6.43],\n",
        "    }\n",
        "\n",
        "    for key, value in super_dict.items():\n",
        "        print(key, \">\", value)\n",
        "\n",
        "    print(\" \")\n",
        "\n",
        "    for element in super_list:\n",
        "        for key, value in element.items():\n",
        "            print(key, \">\", value)\n",
        "\n",
        "\n",
        "if __name__ == '__main__':\n",
        "    run()"
      ],
      "metadata": {
        "colab": {
          "base_uri": "https://localhost:8080/"
        },
        "id": "S1v-F-SyYe1V",
        "outputId": "0e88b24c-0842-4dd0-f387-14578686b5b5"
      },
      "execution_count": null,
      "outputs": [
        {
          "output_type": "stream",
          "name": "stdout",
          "text": [
            "natural_nums > [1, 2, 3, 4, 5]\n",
            "integer_nums > [-1, -2, 3, 0, 1]\n",
            "floating_nums > [1.1, 4.55, 6.43]\n",
            " \n",
            "firstname > Facundo\n",
            "lastname > García\n",
            "firstname > Miguel\n",
            "lastname > Rodriguez\n",
            "firstname > Pablo\n",
            "lastname > Trinidad\n",
            "firstname > Susana\n",
            "lastname > Martinez\n",
            "firstname > José\n",
            "lastname > Fernandez\n"
          ]
        }
      ]
    },
    {
      "cell_type": "markdown",
      "source": [
        "### 07 - List Comprehensions"
      ],
      "metadata": {
        "id": "jAZE8zU-b3md"
      }
    },
    {
      "cell_type": "code",
      "source": [
        "def run():\n",
        "    squares = []               # Lista vacia\n",
        "    for i in range(1, 101):\n",
        "        squares.append(i**2)\n",
        "    print(squares)\n",
        "\n",
        "    print(\" \")\n",
        "\n",
        "    # List Comprehensions\n",
        "\n",
        "    square = [i**2 for i in range(1, 101) if i % 3 != 0]   # Estructura: [element for element in iterable if condition]\n",
        "    print(square)\n",
        "\n",
        "    print(\" \")\n",
        "\n",
        "    new_list = [i for i in range(1, 4000) if i % 4 == 0 and i % 6 == 0 and i % 9 == 0]\n",
        "    print(new_list)\n",
        "\n",
        "\n",
        "if __name__ == '__main__':\n",
        "    run()"
      ],
      "metadata": {
        "colab": {
          "base_uri": "https://localhost:8080/"
        },
        "id": "BhCe4Ofbb9Gp",
        "outputId": "5e8d52e0-c075-4d28-8bd7-21922925d273"
      },
      "execution_count": null,
      "outputs": [
        {
          "output_type": "stream",
          "name": "stdout",
          "text": [
            "[1, 4, 9, 16, 25, 36, 49, 64, 81, 100, 121, 144, 169, 196, 225, 256, 289, 324, 361, 400, 441, 484, 529, 576, 625, 676, 729, 784, 841, 900, 961, 1024, 1089, 1156, 1225, 1296, 1369, 1444, 1521, 1600, 1681, 1764, 1849, 1936, 2025, 2116, 2209, 2304, 2401, 2500, 2601, 2704, 2809, 2916, 3025, 3136, 3249, 3364, 3481, 3600, 3721, 3844, 3969, 4096, 4225, 4356, 4489, 4624, 4761, 4900, 5041, 5184, 5329, 5476, 5625, 5776, 5929, 6084, 6241, 6400, 6561, 6724, 6889, 7056, 7225, 7396, 7569, 7744, 7921, 8100, 8281, 8464, 8649, 8836, 9025, 9216, 9409, 9604, 9801, 10000]\n",
            " \n",
            "[1, 4, 16, 25, 49, 64, 100, 121, 169, 196, 256, 289, 361, 400, 484, 529, 625, 676, 784, 841, 961, 1024, 1156, 1225, 1369, 1444, 1600, 1681, 1849, 1936, 2116, 2209, 2401, 2500, 2704, 2809, 3025, 3136, 3364, 3481, 3721, 3844, 4096, 4225, 4489, 4624, 4900, 5041, 5329, 5476, 5776, 5929, 6241, 6400, 6724, 6889, 7225, 7396, 7744, 7921, 8281, 8464, 8836, 9025, 9409, 9604, 10000]\n",
            " \n",
            "[36, 72, 108, 144, 180, 216, 252, 288, 324, 360, 396, 432, 468, 504, 540, 576, 612, 648, 684, 720, 756, 792, 828, 864, 900, 936, 972, 1008, 1044, 1080, 1116, 1152, 1188, 1224, 1260, 1296, 1332, 1368, 1404, 1440, 1476, 1512, 1548, 1584, 1620, 1656, 1692, 1728, 1764, 1800, 1836, 1872, 1908, 1944, 1980, 2016, 2052, 2088, 2124, 2160, 2196, 2232, 2268, 2304, 2340, 2376, 2412, 2448, 2484, 2520, 2556, 2592, 2628, 2664, 2700, 2736, 2772, 2808, 2844, 2880, 2916, 2952, 2988, 3024, 3060, 3096, 3132, 3168, 3204, 3240, 3276, 3312, 3348, 3384, 3420, 3456, 3492, 3528, 3564, 3600, 3636, 3672, 3708, 3744, 3780, 3816, 3852, 3888, 3924, 3960, 3996]\n"
          ]
        }
      ]
    },
    {
      "cell_type": "markdown",
      "source": [
        "### 08 - Dictionary Comprehensions"
      ],
      "metadata": {
        "id": "TshnMAkWftZi"
      }
    },
    {
      "cell_type": "code",
      "source": [
        "def run():\n",
        "    my_dict = {}               # Dicccionario vacio\n",
        "\n",
        "    for i in range(1, 101):\n",
        "        my_dict[i] = i**2\n",
        "    print(my_dict)\n",
        "\n",
        "    print(\" \")\n",
        "\n",
        "    # Dictionary Comprehensions\n",
        "    \n",
        "    new_dict = {i: i**3 for i in range(1, 101) if i % 3 != 0}  # Estructura: {key: value for value in iterable if condition}\n",
        "    print(new_dict)\n",
        "\n",
        "    print(\" \")\n",
        "    my_new_dict = {i: round(i**0.5, 2) for i in range(1, 101)}\n",
        "    print(my_new_dict)\n",
        "\n",
        "\n",
        "if __name__ == \"__main__\":\n",
        "    run()"
      ],
      "metadata": {
        "colab": {
          "base_uri": "https://localhost:8080/"
        },
        "id": "nEIF2na9geCq",
        "outputId": "bf530a23-5c50-41b4-94f7-ca766041b016"
      },
      "execution_count": null,
      "outputs": [
        {
          "output_type": "stream",
          "name": "stdout",
          "text": [
            "{1: 1, 2: 4, 3: 9, 4: 16, 5: 25, 6: 36, 7: 49, 8: 64, 9: 81, 10: 100, 11: 121, 12: 144, 13: 169, 14: 196, 15: 225, 16: 256, 17: 289, 18: 324, 19: 361, 20: 400, 21: 441, 22: 484, 23: 529, 24: 576, 25: 625, 26: 676, 27: 729, 28: 784, 29: 841, 30: 900, 31: 961, 32: 1024, 33: 1089, 34: 1156, 35: 1225, 36: 1296, 37: 1369, 38: 1444, 39: 1521, 40: 1600, 41: 1681, 42: 1764, 43: 1849, 44: 1936, 45: 2025, 46: 2116, 47: 2209, 48: 2304, 49: 2401, 50: 2500, 51: 2601, 52: 2704, 53: 2809, 54: 2916, 55: 3025, 56: 3136, 57: 3249, 58: 3364, 59: 3481, 60: 3600, 61: 3721, 62: 3844, 63: 3969, 64: 4096, 65: 4225, 66: 4356, 67: 4489, 68: 4624, 69: 4761, 70: 4900, 71: 5041, 72: 5184, 73: 5329, 74: 5476, 75: 5625, 76: 5776, 77: 5929, 78: 6084, 79: 6241, 80: 6400, 81: 6561, 82: 6724, 83: 6889, 84: 7056, 85: 7225, 86: 7396, 87: 7569, 88: 7744, 89: 7921, 90: 8100, 91: 8281, 92: 8464, 93: 8649, 94: 8836, 95: 9025, 96: 9216, 97: 9409, 98: 9604, 99: 9801, 100: 10000}\n",
            " \n",
            "{1: 1, 2: 8, 4: 64, 5: 125, 7: 343, 8: 512, 10: 1000, 11: 1331, 13: 2197, 14: 2744, 16: 4096, 17: 4913, 19: 6859, 20: 8000, 22: 10648, 23: 12167, 25: 15625, 26: 17576, 28: 21952, 29: 24389, 31: 29791, 32: 32768, 34: 39304, 35: 42875, 37: 50653, 38: 54872, 40: 64000, 41: 68921, 43: 79507, 44: 85184, 46: 97336, 47: 103823, 49: 117649, 50: 125000, 52: 140608, 53: 148877, 55: 166375, 56: 175616, 58: 195112, 59: 205379, 61: 226981, 62: 238328, 64: 262144, 65: 274625, 67: 300763, 68: 314432, 70: 343000, 71: 357911, 73: 389017, 74: 405224, 76: 438976, 77: 456533, 79: 493039, 80: 512000, 82: 551368, 83: 571787, 85: 614125, 86: 636056, 88: 681472, 89: 704969, 91: 753571, 92: 778688, 94: 830584, 95: 857375, 97: 912673, 98: 941192, 100: 1000000}\n",
            " \n",
            "{1: 1.0, 2: 1.41, 3: 1.73, 4: 2.0, 5: 2.24, 6: 2.45, 7: 2.65, 8: 2.83, 9: 3.0, 10: 3.16, 11: 3.32, 12: 3.46, 13: 3.61, 14: 3.74, 15: 3.87, 16: 4.0, 17: 4.12, 18: 4.24, 19: 4.36, 20: 4.47, 21: 4.58, 22: 4.69, 23: 4.8, 24: 4.9, 25: 5.0, 26: 5.1, 27: 5.2, 28: 5.29, 29: 5.39, 30: 5.48, 31: 5.57, 32: 5.66, 33: 5.74, 34: 5.83, 35: 5.92, 36: 6.0, 37: 6.08, 38: 6.16, 39: 6.24, 40: 6.32, 41: 6.4, 42: 6.48, 43: 6.56, 44: 6.63, 45: 6.71, 46: 6.78, 47: 6.86, 48: 6.93, 49: 7.0, 50: 7.07, 51: 7.14, 52: 7.21, 53: 7.28, 54: 7.35, 55: 7.42, 56: 7.48, 57: 7.55, 58: 7.62, 59: 7.68, 60: 7.75, 61: 7.81, 62: 7.87, 63: 7.94, 64: 8.0, 65: 8.06, 66: 8.12, 67: 8.19, 68: 8.25, 69: 8.31, 70: 8.37, 71: 8.43, 72: 8.49, 73: 8.54, 74: 8.6, 75: 8.66, 76: 8.72, 77: 8.77, 78: 8.83, 79: 8.89, 80: 8.94, 81: 9.0, 82: 9.06, 83: 9.11, 84: 9.17, 85: 9.22, 86: 9.27, 87: 9.33, 88: 9.38, 89: 9.43, 90: 9.49, 91: 9.54, 92: 9.59, 93: 9.64, 94: 9.7, 95: 9.75, 96: 9.8, 97: 9.85, 98: 9.9, 99: 9.95, 100: 10.0}\n"
          ]
        }
      ]
    },
    {
      "cell_type": "markdown",
      "source": [
        "### 09 - High order functions: filter"
      ],
      "metadata": {
        "id": "BpBvs9Spzz-c"
      }
    },
    {
      "cell_type": "code",
      "source": [
        "# Ejemplo con list comprehensions:\n",
        "\n",
        "list_01 = [1, 4, 5, 6, 9, 13, 16, 19, 21, 26, 32]\n",
        "odd = [i for i in list_01 if i % 2 != 0]\n",
        "pair = [j for j in list_01 if j % 2 == 0]\n",
        "print(\"Lista original:\", list_01, \"\\n\")\n",
        "print(\"Using list comprehensions: \\n\")\n",
        "print(odd)\n",
        "print(pair, \"\\n\")\n",
        "\n",
        "# Usando la función filter:\n",
        "\n",
        "new_odd = list(filter(lambda x: x % 2 != 0, list_01))\n",
        "new_pair = list(filter(lambda y: y % 2 == 0, list_01))\n",
        "print(\"Using filter function: \\n\")\n",
        "print(new_odd)\n",
        "print(new_pair)"
      ],
      "metadata": {
        "colab": {
          "base_uri": "https://localhost:8080/"
        },
        "id": "dSbOS9oD1H-l",
        "outputId": "f2d0b9da-4c59-4fe2-b33c-d3c6cc7861b8"
      },
      "execution_count": 23,
      "outputs": [
        {
          "output_type": "stream",
          "name": "stdout",
          "text": [
            "Lista original: [1, 4, 5, 6, 9, 13, 16, 19, 21, 26, 32] \n",
            "\n",
            "Using list comprehensions: \n",
            "\n",
            "[1, 5, 9, 13, 19, 21]\n",
            "[4, 6, 16, 26, 32] \n",
            "\n",
            "Using filter function: \n",
            "\n",
            "[1, 5, 9, 13, 19, 21]\n",
            "[4, 6, 16, 26, 32]\n"
          ]
        }
      ]
    },
    {
      "cell_type": "markdown",
      "source": [
        "### 10 - High order function: map"
      ],
      "metadata": {
        "id": "jFoMdm2p9HoR"
      }
    },
    {
      "cell_type": "code",
      "source": [
        "# Ejemplo con list comprehensions:\n",
        "\n",
        "list_02 = [1, 2, 3, 4, 5]\n",
        "squares = [i ** 2 for i in list_02]\n",
        "print(\"Lista original:\", list_02, \"\\n\")\n",
        "print(\"Using list comprehensions: \\n\")\n",
        "print(squares, \"\\n\")\n",
        "\n",
        "# Usando la función map:\n",
        "\n",
        "new_squares = list(map(lambda x: x ** 2, list_02))\n",
        "print(\"Using map function: \\n\")\n",
        "print(new_squares)"
      ],
      "metadata": {
        "colab": {
          "base_uri": "https://localhost:8080/"
        },
        "id": "lj0RWhiJ9UFN",
        "outputId": "bc6078c6-80e2-45fa-872e-a53275eba289"
      },
      "execution_count": 26,
      "outputs": [
        {
          "output_type": "stream",
          "name": "stdout",
          "text": [
            "Lista original: [1, 2, 3, 4, 5] \n",
            "\n",
            "Using list comprehensions: \n",
            "\n",
            "[1, 4, 9, 16, 25] \n",
            "\n",
            "Using map function: \n",
            "\n",
            "[1, 4, 9, 16, 25]\n"
          ]
        }
      ]
    },
    {
      "cell_type": "markdown",
      "source": [
        "### 11 - High order function: reduce"
      ],
      "metadata": {
        "id": "EJEbh5m2_Inh"
      }
    },
    {
      "cell_type": "code",
      "source": [
        "from functools import reduce\n",
        "\n",
        "# Ejemplo con un ciclo for:\n",
        "\n",
        "list_03 = [2, 2, 2, 2, 2, 2]\n",
        "all = 1\n",
        "for i in list_03:\n",
        "    all = all * i\n",
        "\n",
        "print(\"Lista original:\", list_03, \"\\n\")\n",
        "print(\"Using a for cicle: \\n\")\n",
        "print(all, \"\\n\")\n",
        "\n",
        "# Usando la función reduce:\n",
        "\n",
        "new_all = reduce(lambda a, b: a * b, list_03)\n",
        "print(\"Using reduce function: \\n\")\n",
        "print(new_all)"
      ],
      "metadata": {
        "colab": {
          "base_uri": "https://localhost:8080/"
        },
        "id": "g2x0cNzl_PEV",
        "outputId": "4a332fd5-ddc9-450e-9b76-dd9483dcd79b"
      },
      "execution_count": 31,
      "outputs": [
        {
          "output_type": "stream",
          "name": "stdout",
          "text": [
            "Lista original: [2, 2, 2, 2, 2, 2] \n",
            "\n",
            "Using a for cicle: \n",
            "\n",
            "64 \n",
            "\n",
            "Using reduce function: \n",
            "\n",
            "64\n"
          ]
        }
      ]
    },
    {
      "cell_type": "markdown",
      "source": [
        "### 12 - Filtrando datos"
      ],
      "metadata": {
        "id": "jeEc2p8AAcfw"
      }
    },
    {
      "cell_type": "code",
      "source": [
        "DATA = [\n",
        "    {\n",
        "        'name': 'Facundo',\n",
        "        'age': 72,\n",
        "        'organization': 'Platzi',\n",
        "        'position': 'Technical Coach',\n",
        "        'language': 'python',\n",
        "    },\n",
        "    {\n",
        "        'name': 'Luisana',\n",
        "        'age': 33,\n",
        "        'organization': 'Globant',\n",
        "        'position': 'UX Designer',\n",
        "        'language': 'javascript',\n",
        "    },\n",
        "    {\n",
        "        'name': 'Héctor',\n",
        "        'age': 19,\n",
        "        'organization': 'Platzi',\n",
        "        'position': 'Associate',\n",
        "        'language': 'ruby',\n",
        "    },\n",
        "    {\n",
        "        'name': 'Gabriel',\n",
        "        'age': 20,\n",
        "        'organization': 'Platzi',\n",
        "        'position': 'Associate',\n",
        "        'language': 'javascript',\n",
        "    },\n",
        "    {\n",
        "        'name': 'Isabella',\n",
        "        'age': 30,\n",
        "        'organization': 'Platzi',\n",
        "        'position': 'QA Manager',\n",
        "        'language': 'java',\n",
        "    },\n",
        "    {\n",
        "        'name': 'Karo',\n",
        "        'age': 23,\n",
        "        'organization': 'Everis',\n",
        "        'position': 'Backend Developer',\n",
        "        'language': 'python',\n",
        "    },\n",
        "    {\n",
        "        'name': 'Ariel',\n",
        "        'age': 32,\n",
        "        'organization': 'Rappi',\n",
        "        'position': 'Support',\n",
        "        'language': '',\n",
        "    },\n",
        "    {\n",
        "        'name': 'Juan',\n",
        "        'age': 17,\n",
        "        'organization': '',\n",
        "        'position': 'Student',\n",
        "        'language': 'go',\n",
        "    },\n",
        "    {\n",
        "        'name': 'Pablo',\n",
        "        'age': 32,\n",
        "        'organization': 'Master',\n",
        "        'position': 'Human Resources Manager',\n",
        "        'language': 'python',\n",
        "    },\n",
        "    {\n",
        "        'name': 'Lorena',\n",
        "        'age': 56,\n",
        "        'organization': 'Python Organization',\n",
        "        'position': 'Language Maker',\n",
        "        'language': 'python',\n",
        "    },\n",
        "]\n",
        "\n",
        "def run():\n",
        "\n",
        "    # Comprehensions solutions\n",
        "    all_python_devs = [worker_01[\"name\"] for worker_01 in DATA if worker_01[\"language\"] == \"python\"]\n",
        "    all_Platzi_workers = [worker_02[\"name\"] for worker_02 in DATA if worker_02[\"organization\"] == \"Platzi\"]\n",
        "    adults =  [worker_03[\"name\"] for worker_03 in DATA if worker_03[\"age\"] > 18]\n",
        "    #old_people = list(map(lambda worker: worker | {\"old\": worker[\"age\"] > 70}, DATA))\n",
        "\n",
        "    for worker_01 in all_python_devs:\n",
        "        print(worker_01)\n",
        "\n",
        "    print(\" \")\n",
        "\n",
        "    for worker_02 in all_Platzi_workers:\n",
        "        print(worker_02)\n",
        "\n",
        "    print(\"\")\n",
        "\n",
        "    for worker_03 in adults:\n",
        "        print(worker_03)\n",
        "\n",
        "\n",
        "if __name__ == '__main__':\n",
        "    run()"
      ],
      "metadata": {
        "colab": {
          "base_uri": "https://localhost:8080/"
        },
        "id": "2yRwbR_uAf2O",
        "outputId": "fa999115-2098-4bb5-d50c-3030c1611121"
      },
      "execution_count": 35,
      "outputs": [
        {
          "output_type": "stream",
          "name": "stdout",
          "text": [
            "Facundo\n",
            "Karo\n",
            "Pablo\n",
            "Lorena\n",
            " \n",
            "Facundo\n",
            "Héctor\n",
            "Gabriel\n",
            "Isabella\n",
            "\n",
            "Facundo\n",
            "Luisana\n",
            "Héctor\n",
            "Gabriel\n",
            "Isabella\n",
            "Karo\n",
            "Ariel\n",
            "Pablo\n",
            "Lorena\n"
          ]
        }
      ]
    },
    {
      "cell_type": "markdown",
      "source": [
        "### 13 - Filtrando datos usando funciones de alto orden"
      ],
      "metadata": {
        "id": "DyE4090WEKOX"
      }
    },
    {
      "cell_type": "code",
      "source": [
        "DATA = [\n",
        "    {\n",
        "        'name': 'Facundo',\n",
        "        'age': 72,\n",
        "        'organization': 'Platzi',\n",
        "        'position': 'Technical Coach',\n",
        "        'language': 'python',\n",
        "    },\n",
        "    {\n",
        "        'name': 'Luisana',\n",
        "        'age': 33,\n",
        "        'organization': 'Globant',\n",
        "        'position': 'UX Designer',\n",
        "        'language': 'javascript',\n",
        "    },\n",
        "    {\n",
        "        'name': 'Héctor',\n",
        "        'age': 19,\n",
        "        'organization': 'Platzi',\n",
        "        'position': 'Associate',\n",
        "        'language': 'ruby',\n",
        "    },\n",
        "    {\n",
        "        'name': 'Gabriel',\n",
        "        'age': 20,\n",
        "        'organization': 'Platzi',\n",
        "        'position': 'Associate',\n",
        "        'language': 'javascript',\n",
        "    },\n",
        "    {\n",
        "        'name': 'Isabella',\n",
        "        'age': 30,\n",
        "        'organization': 'Platzi',\n",
        "        'position': 'QA Manager',\n",
        "        'language': 'java',\n",
        "    },\n",
        "    {\n",
        "        'name': 'Karo',\n",
        "        'age': 23,\n",
        "        'organization': 'Everis',\n",
        "        'position': 'Backend Developer',\n",
        "        'language': 'python',\n",
        "    },\n",
        "    {\n",
        "        'name': 'Ariel',\n",
        "        'age': 32,\n",
        "        'organization': 'Rappi',\n",
        "        'position': 'Support',\n",
        "        'language': '',\n",
        "    },\n",
        "    {\n",
        "        'name': 'Juan',\n",
        "        'age': 17,\n",
        "        'organization': '',\n",
        "        'position': 'Student',\n",
        "        'language': 'go',\n",
        "    },\n",
        "    {\n",
        "        'name': 'Pablo',\n",
        "        'age': 32,\n",
        "        'organization': 'Master',\n",
        "        'position': 'Human Resources Manager',\n",
        "        'language': 'python',\n",
        "    },\n",
        "    {\n",
        "        'name': 'Lorena',\n",
        "        'age': 56,\n",
        "        'organization': 'Python Organization',\n",
        "        'position': 'Language Maker',\n",
        "        'language': 'python',\n",
        "    },\n",
        "]\n",
        "\n",
        "def run():\n",
        "\n",
        "    # Usando funciones de alto orden \n",
        "    all_python_devs = list(filter(lambda worker_01: worker_01[\"language\"] == \"python\", DATA))\n",
        "    all_python_devs = list(map(lambda worker_01: worker_01[\"name\"], all_python_devs))\n",
        "    \n",
        "    all_Platzi_workers = list(filter(lambda worker_02: worker_02[\"organization\"] == \"Platzi\", DATA))\n",
        "    all_Platzi_workers = list(map(lambda worker_02: worker_02[\"name\"], all_Platzi_workers))\n",
        "\n",
        "    adults = list(filter(lambda worker_03: worker_03[\"age\"] > 18, DATA))\n",
        "    adults = list(map(lambda worker_03: worker_03[\"name\"], adults))\n",
        "\n",
        "    #old_people = [worker | {\"old\": worker[\"age\"] > 70} for worker in DATA]\n",
        "\n",
        "    for worker_01 in all_python_devs:\n",
        "        print(worker_01)\n",
        "\n",
        "    print(\" \")\n",
        "\n",
        "    for worker_02 in all_Platzi_workers:\n",
        "        print(worker_02)\n",
        "\n",
        "    print(\"\")\n",
        "\n",
        "    for worker_03 in adults:\n",
        "        print(worker_03)\n",
        "\n",
        "\n",
        "if __name__ == '__main__':\n",
        "    run()"
      ],
      "metadata": {
        "colab": {
          "base_uri": "https://localhost:8080/"
        },
        "id": "pWaJECvpDaUF",
        "outputId": "cd61de69-154d-4fb8-e9c6-52157ba7f55e"
      },
      "execution_count": 38,
      "outputs": [
        {
          "output_type": "stream",
          "name": "stdout",
          "text": [
            "Facundo\n",
            "Karo\n",
            "Pablo\n",
            "Lorena\n",
            " \n",
            "Facundo\n",
            "Héctor\n",
            "Gabriel\n",
            "Isabella\n",
            "\n",
            "Facundo\n",
            "Luisana\n",
            "Héctor\n",
            "Gabriel\n",
            "Isabella\n",
            "Karo\n",
            "Ariel\n",
            "Pablo\n",
            "Lorena\n"
          ]
        }
      ]
    }
  ]
}