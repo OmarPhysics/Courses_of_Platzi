{
  "nbformat": 4,
  "nbformat_minor": 0,
  "metadata": {
    "colab": {
      "name": "Python.ipynb",
      "provenance": [],
      "include_colab_link": true
    },
    "kernelspec": {
      "name": "python3",
      "display_name": "Python 3"
    },
    "language_info": {
      "name": "python"
    }
  },
  "cells": [
    {
      "cell_type": "markdown",
      "metadata": {
        "id": "view-in-github",
        "colab_type": "text"
      },
      "source": [
        "<a href=\"https://colab.research.google.com/github/OmarPhysics/Platzi_Courses/blob/main/Python/Python.ipynb\" target=\"_parent\"><img src=\"https://colab.research.google.com/assets/colab-badge.svg\" alt=\"Open In Colab\"/></a>"
      ]
    },
    {
      "cell_type": "markdown",
      "source": [
        "# Programas Sencillos en Python"
      ],
      "metadata": {
        "id": "uiGH8Fu0LTi2"
      }
    },
    {
      "cell_type": "markdown",
      "source": [
        "### 01 - Conversor de pesos a dolares."
      ],
      "metadata": {
        "id": "zjRTyeqyLhvu"
      }
    },
    {
      "cell_type": "code",
      "execution_count": 1,
      "metadata": {
        "id": "S_zBEQnU3w9S",
        "colab": {
          "base_uri": "https://localhost:8080/"
        },
        "outputId": "6ef01c4a-8c7f-4f51-b6b6-462ed5791224"
      },
      "outputs": [
        {
          "output_type": "stream",
          "name": "stdout",
          "text": [
            "\n",
            "Bienvenido al conversor de monedas 💰\n",
            "\n",
            "1 - Pesos colombianos\n",
            "2 - Pesos argentinos\n",
            "3 - Pesos mexicanos\n",
            "\n",
            "Elige una opción: 3\n",
            "¿Cuántos pesos mexicanos tienes?: 500\n",
            "Tienes $20.83 dólares\n"
          ]
        }
      ],
      "source": [
        "# Defininición de la función que transforma pesos a dolares\n",
        "\n",
        "def conversor(tipo_pesos, valor_dolar):\n",
        "    pesos = input(\"¿Cuántos pesos \" + tipo_pesos + \" tienes?: \")\n",
        "    pesos = float(pesos)\n",
        "    dolares = pesos / valor_dolar\n",
        "    dolares = round(dolares, 2)\n",
        "    dolares = str(dolares)\n",
        "    print(\"Tienes $\" + dolares + \" dólares\")\n",
        "\n",
        " # Menu para el usiario.    \n",
        "\n",
        "menu = \"\"\"\n",
        "Bienvenido al conversor de monedas 💰\n",
        "\n",
        "1 - Pesos colombianos\n",
        "2 - Pesos argentinos\n",
        "3 - Pesos mexicanos\n",
        "\n",
        "Elige una opción: \"\"\"\n",
        "\n",
        "opcion = input(menu)\n",
        "opcion = int(opcion)\n",
        "\n",
        "if opcion == 1:\n",
        "    conversor(\"colombianos\", 3875)  # 3875 pesos colombianos son un dolar\n",
        "elif opcion == 2:\n",
        "    conversor(\"argentinos\", 65)     # 65 pesos argentinos son un dolar\n",
        "elif opcion == 3:\n",
        "    conversor(\"mexicanos\", 24)      # 24 pesoso mexicanos son un dolar\n",
        "else:\n",
        "    print('Ingresa una opción correcta por favor')  # Si no se ingresa un valor del menu indicar que no es una opción correcta"
      ]
    },
    {
      "cell_type": "markdown",
      "source": [
        "### 02 - Palíndromos."
      ],
      "metadata": {
        "id": "2yf1oOa-Zvbj"
      }
    },
    {
      "cell_type": "code",
      "source": [
        "# Definición de la función palíndromo\n",
        "\n",
        "def palindromo(palabra):\n",
        "    palabra = palabra.replace(' ', '')   # Remplazar los espacios de la frase introducida por \"nada\", es decir, eliminar espacios\n",
        "    palabra = palabra.lower()            # Transformar toda la frase a minusculas\n",
        "    palabra_invertida = palabra[::-1]    # Invertir la frase y almacenarla en otra variable\n",
        "    if palabra == palabra_invertida:     # Si la frase original y la invertida son iguales regresar \"verdadero\" y si no lo son regresar \"falso\"\n",
        "        return True\n",
        "    else:\n",
        "        return False\n",
        "\n",
        "# Definición de la función que muestra si es la frase o palabra es un palíndromo o no\n",
        "\n",
        "def run():\n",
        "    palabra = input('Escribe una palabra o frase: ')   # Se solicita el ingreso de una frase\n",
        "    es_palindromo = palindromo(palabra)                # Se introduce la frase o palabra a la función \"palabra\" y se muestra en pantalla el resultado\n",
        "    if es_palindromo == True: \n",
        "        print('Es palíndromo')\n",
        "    else:\n",
        "        print('No es palíndromo')\n",
        "\n",
        "\n",
        "if __name__ == '__main__':\n",
        "    run()"
      ],
      "metadata": {
        "id": "_mg9j0uXMAx8",
        "colab": {
          "base_uri": "https://localhost:8080/"
        },
        "outputId": "ef850134-2455-4d24-b8a7-8ffde2ac1f49"
      },
      "execution_count": 2,
      "outputs": [
        {
          "output_type": "stream",
          "name": "stdout",
          "text": [
            "Escribe una palabra o frase: anita lava la tina\n",
            "Es palíndromo\n"
          ]
        }
      ]
    },
    {
      "cell_type": "markdown",
      "source": [
        "### 03 - Potencias de 2."
      ],
      "metadata": {
        "id": "9RNUhK_GkDIZ"
      }
    },
    {
      "cell_type": "code",
      "source": [
        "# Definición de la función \n",
        "\n",
        "def run():\n",
        "    LIMITE = 1000000                           # Se define una constante usando mayúsculas\n",
        "\n",
        "    contador = 0                                 # Se define una variable que comienza con el valor cero\n",
        "    potencia_2 = 2**contador                     # Se define la operación potencia \n",
        "    while potencia_2 < LIMITE:                   # Ciclo \"while\" para determinar las potencias de 2 mientras que el valor no exceda la constante LIMITE\n",
        "        print('2 elevado a ' + str(contador) +\n",
        "              ' es igual a: ' + str(potencia_2))\n",
        "        contador = contador + 1\n",
        "        potencia_2 = 2**contador\n",
        "\n",
        "\n",
        "if __name__ == '__main__':\n",
        "    run()"
      ],
      "metadata": {
        "id": "o1v5dneskTMO",
        "outputId": "78ec1e1d-7353-4ef6-c49a-4b72899398cb",
        "colab": {
          "base_uri": "https://localhost:8080/"
        }
      },
      "execution_count": 3,
      "outputs": [
        {
          "output_type": "stream",
          "name": "stdout",
          "text": [
            "2 elevado a 0 es igual a: 1\n",
            "2 elevado a 1 es igual a: 2\n",
            "2 elevado a 2 es igual a: 4\n",
            "2 elevado a 3 es igual a: 8\n",
            "2 elevado a 4 es igual a: 16\n",
            "2 elevado a 5 es igual a: 32\n",
            "2 elevado a 6 es igual a: 64\n",
            "2 elevado a 7 es igual a: 128\n",
            "2 elevado a 8 es igual a: 256\n",
            "2 elevado a 9 es igual a: 512\n",
            "2 elevado a 10 es igual a: 1024\n",
            "2 elevado a 11 es igual a: 2048\n",
            "2 elevado a 12 es igual a: 4096\n",
            "2 elevado a 13 es igual a: 8192\n",
            "2 elevado a 14 es igual a: 16384\n",
            "2 elevado a 15 es igual a: 32768\n",
            "2 elevado a 16 es igual a: 65536\n",
            "2 elevado a 17 es igual a: 131072\n",
            "2 elevado a 18 es igual a: 262144\n",
            "2 elevado a 19 es igual a: 524288\n"
          ]
        }
      ]
    },
    {
      "cell_type": "markdown",
      "source": [
        "### 04 - Números Primos"
      ],
      "metadata": {
        "id": "VAwZ3CdXxGdy"
      }
    },
    {
      "cell_type": "code",
      "source": [
        "def es_primo(numero):\n",
        "    contador = 0\n",
        "\n",
        "    for i in range(1, numero + 1):\n",
        "        if i == 1 or i == numero:\n",
        "            continue\n",
        "        if numero % i == 0:\n",
        "            contador += 1\n",
        "    if contador == 0:\n",
        "        return True\n",
        "    else:\n",
        "        return False\n",
        "\n",
        "\n",
        "def run():\n",
        "    numero = int(input('Escribe un número: '))\n",
        "    if es_primo(numero):\n",
        "        print('Es primo')\n",
        "    else:\n",
        "        print('No es primo')\n",
        "\n",
        "\n",
        "if __name__ == '__main__':\n",
        "    run()"
      ],
      "metadata": {
        "id": "FJpl3VyHxOxE",
        "outputId": "cb47c6d3-f05d-4b65-bd0a-03e1f7c5f9f0",
        "colab": {
          "base_uri": "https://localhost:8080/"
        }
      },
      "execution_count": 4,
      "outputs": [
        {
          "output_type": "stream",
          "name": "stdout",
          "text": [
            "Escribe un número: 97\n",
            "Es primo\n"
          ]
        }
      ]
    },
    {
      "cell_type": "markdown",
      "source": [
        "### 05 - Adivina el Número"
      ],
      "metadata": {
        "id": "KJgujU2z0I6i"
      }
    },
    {
      "cell_type": "code",
      "source": [
        "import random   # Importación de un Módulo de Python \n",
        "\n",
        "\n",
        "def run():\n",
        "    numero_aleatorio = random.randint(1, 100)\n",
        "    numero_elegido = int(input('Elige un número del 1 al 100: '))\n",
        "    while numero_elegido != numero_aleatorio:\n",
        "        if numero_elegido < numero_aleatorio:\n",
        "            print('Busca un número más grande')\n",
        "        else:\n",
        "            print('Busca un número más pequeño')\n",
        "        numero_elegido = int(input('Elige otro número: '))\n",
        "    print('¡Ganaste!')\n",
        "\n",
        "\n",
        "if __name__ == '__main__':\n",
        "    run()"
      ],
      "metadata": {
        "id": "jqphSzar0NhG",
        "outputId": "2aa3cc73-86c8-4c04-9916-b41fdd095b93",
        "colab": {
          "base_uri": "https://localhost:8080/"
        }
      },
      "execution_count": 5,
      "outputs": [
        {
          "output_type": "stream",
          "name": "stdout",
          "text": [
            "Elige un número del 1 al 100: 50\n",
            "Busca un número más grande\n",
            "Elige otro número: 80\n",
            "Busca un número más pequeño\n",
            "Elige otro número: 70\n",
            "Busca un número más pequeño\n",
            "Elige otro número: 60\n",
            "Busca un número más grande\n",
            "Elige otro número: 65\n",
            "¡Ganaste!\n"
          ]
        }
      ]
    },
    {
      "cell_type": "markdown",
      "source": [
        "### 06 - Generador de Contraseñas"
      ],
      "metadata": {
        "id": "vMXefwMO6SWQ"
      }
    },
    {
      "cell_type": "code",
      "source": [
        "import random\n",
        "\n",
        "\n",
        "def generar_contrasena():\n",
        "    mayusculas = ['A', 'B', 'C', 'D', 'E', 'F', 'G']\n",
        "    minusculas = ['a', 'b', 'c', 'd', 'e', 'f', 'g']\n",
        "    simbolos = ['!', '#', '$', '&', '/', '(', ')']\n",
        "    numeros = ['1', '2', '3', '4', '5', '6', '7', '8', '9', '0']\n",
        "\n",
        "    caracteres = mayusculas + minusculas + simbolos + numeros\n",
        "\n",
        "    contrasena = []\n",
        "\n",
        "    for i in range(15):\n",
        "        caracter_random = random.choice(caracteres)\n",
        "        contrasena.append(caracter_random)\n",
        "\n",
        "    contrasena = \"\".join(contrasena)\n",
        "    return contrasena\n",
        "\n",
        "\n",
        "def run():\n",
        "    contrasena = generar_contrasena()\n",
        "    print('Tu nueva contraseña es: ' + contrasena)\n",
        "\n",
        "\n",
        "if __name__ == '__main__':\n",
        "    run()"
      ],
      "metadata": {
        "id": "4gyTi3-N6SrH",
        "outputId": "ad9c1b9f-96b9-4082-ec83-c9ab3a35034a",
        "colab": {
          "base_uri": "https://localhost:8080/"
        }
      },
      "execution_count": 7,
      "outputs": [
        {
          "output_type": "stream",
          "name": "stdout",
          "text": [
            "Tu nueva contraseña es: G(Cg&8#14Cca9&b\n"
          ]
        }
      ]
    }
  ]
}