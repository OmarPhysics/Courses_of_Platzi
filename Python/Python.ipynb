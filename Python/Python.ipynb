{
  "nbformat": 4,
  "nbformat_minor": 0,
  "metadata": {
    "colab": {
      "name": "Python.ipynb",
      "provenance": [],
      "include_colab_link": true
    },
    "kernelspec": {
      "name": "python3",
      "display_name": "Python 3"
    },
    "language_info": {
      "name": "python"
    }
  },
  "cells": [
    {
      "cell_type": "markdown",
      "metadata": {
        "id": "view-in-github",
        "colab_type": "text"
      },
      "source": [
        "<a href=\"https://colab.research.google.com/github/OmarPhysics/Platzi_Courses/blob/main/Python/Python.ipynb\" target=\"_parent\"><img src=\"https://colab.research.google.com/assets/colab-badge.svg\" alt=\"Open In Colab\"/></a>"
      ]
    },
    {
      "cell_type": "markdown",
      "source": [
        "# Programas Sencillos en Python"
      ],
      "metadata": {
        "id": "uiGH8Fu0LTi2"
      }
    },
    {
      "cell_type": "markdown",
      "source": [
        "### 01 - Conversor de pesos a dolares."
      ],
      "metadata": {
        "id": "zjRTyeqyLhvu"
      }
    },
    {
      "cell_type": "code",
      "execution_count": 1,
      "metadata": {
        "id": "S_zBEQnU3w9S",
        "colab": {
          "base_uri": "https://localhost:8080/",
          "height": 0
        },
        "outputId": "e55a6ca3-3faa-4ff5-da15-bd3aa8521462"
      },
      "outputs": [
        {
          "output_type": "stream",
          "name": "stdout",
          "text": [
            "\n",
            "Bienvenido al conversor de monedas 💰\n",
            "\n",
            "1 - Pesos colombianos\n",
            "2 - Pesos argentinos\n",
            "3 - Pesos mexicanos\n",
            "\n",
            "Elige una opción: 2\n",
            "¿Cuántos pesos argentinos tienes?: 5000\n",
            "Tienes $76.92 dólares\n"
          ]
        }
      ],
      "source": [
        "# Defininición de la función que transforma pesos a dolares\n",
        "\n",
        "def conversor(tipo_pesos, valor_dolar):\n",
        "    pesos = input(\"¿Cuántos pesos \" + tipo_pesos + \" tienes?: \")\n",
        "    pesos = float(pesos)\n",
        "    dolares = pesos / valor_dolar\n",
        "    dolares = round(dolares, 2)\n",
        "    dolares = str(dolares)\n",
        "    print(\"Tienes $\" + dolares + \" dólares\")\n",
        "\n",
        " # Menu para el usiario.    \n",
        "\n",
        "menu = \"\"\"\n",
        "Bienvenido al conversor de monedas 💰\n",
        "\n",
        "1 - Pesos colombianos\n",
        "2 - Pesos argentinos\n",
        "3 - Pesos mexicanos\n",
        "\n",
        "Elige una opción: \"\"\"\n",
        "\n",
        "opcion = input(menu)\n",
        "opcion = int(opcion)\n",
        "\n",
        "if opcion == 1:\n",
        "    conversor(\"colombianos\", 3875)  # 3875 pesos colombianos son un dolar\n",
        "elif opcion == 2:\n",
        "    conversor(\"argentinos\", 65)     # 65 pesos argentinos son un dolar\n",
        "elif opcion == 3:\n",
        "    conversor(\"mexicanos\", 24)      # 24 pesoso mexicanos son un dolar\n",
        "else:\n",
        "    print('Ingresa una opción correcta por favor')  # Si no se ingresa un valor del menu indicar que no es una opción correcta"
      ]
    },
    {
      "cell_type": "markdown",
      "source": [
        "### 02 - Palíndromos."
      ],
      "metadata": {
        "id": "2yf1oOa-Zvbj"
      }
    },
    {
      "cell_type": "code",
      "source": [
        "# Definición de la función palíndromo\n",
        "\n",
        "def palindromo(palabra):\n",
        "    palabra = palabra.replace(' ', '')   # Remplazar los espacios de la frase introducida por \"nada\", es decir, eliminar espacios\n",
        "    palabra = palabra.lower()            # Transformar toda la frase a minusculas\n",
        "    palabra_invertida = palabra[::-1]    # Invertir la frase y almacenarla en otra variable\n",
        "    if palabra == palabra_invertida:     # Si la frase original y la invertida son iguales regresar \"verdadero\" y si no lo son regresar \"falso\"\n",
        "        return True\n",
        "    else:\n",
        "        return False\n",
        "\n",
        "# Definición de la función que muestra si es la frase o palabra es un palíndromo o no\n",
        "\n",
        "def run():\n",
        "    palabra = input('Escribe una palabra o frase: ')   # Se solicita el ingreso de una frase\n",
        "    es_palindromo = palindromo(palabra)                # Se introduce la frase o palabra a la función \"palabra\" y se muestra en pantalla el resultado\n",
        "    if es_palindromo == True: \n",
        "        print('Es palíndromo')\n",
        "    else:\n",
        "        print('No es palíndromo')\n",
        "\n",
        "\n",
        "if __name__ == '__main__':\n",
        "    run()"
      ],
      "metadata": {
        "id": "_mg9j0uXMAx8",
        "colab": {
          "base_uri": "https://localhost:8080/",
          "height": 0
        },
        "outputId": "954a45d1-ee4d-4dbe-c111-fd2af2d9a10f"
      },
      "execution_count": 2,
      "outputs": [
        {
          "output_type": "stream",
          "name": "stdout",
          "text": [
            "Escribe una palabra o frase: ola\n",
            "No es palíndromo\n"
          ]
        }
      ]
    },
    {
      "cell_type": "markdown",
      "source": [
        "### 03 - Potencias de 2."
      ],
      "metadata": {
        "id": "9RNUhK_GkDIZ"
      }
    },
    {
      "cell_type": "code",
      "source": [
        "# Definición de la función \n",
        "\n",
        "def run():\n",
        "    LIMITE = 1000000                           # Se define una constante usando mayúsculas\n",
        "\n",
        "    contador = 0                                 # Se define una variable que comienza con el valor cero\n",
        "    potencia_2 = 2**contador                     # Se define la operación potencia \n",
        "    while potencia_2 < LIMITE:                   # Ciclo \"while\" para determinar las potencias de 2 mientras que el valor no exceda la constante LIMITE\n",
        "        print('2 elevado a ' + str(contador) +\n",
        "              ' es igual a: ' + str(potencia_2))\n",
        "        contador = contador + 1\n",
        "        potencia_2 = 2**contador\n",
        "\n",
        "\n",
        "if __name__ == '__main__':\n",
        "    run()"
      ],
      "metadata": {
        "id": "o1v5dneskTMO",
        "outputId": "8f341098-6144-4272-97f3-f0390e2a80d4",
        "colab": {
          "base_uri": "https://localhost:8080/",
          "height": 0
        }
      },
      "execution_count": 3,
      "outputs": [
        {
          "output_type": "stream",
          "name": "stdout",
          "text": [
            "2 elevado a 0 es igual a: 1\n",
            "2 elevado a 1 es igual a: 2\n",
            "2 elevado a 2 es igual a: 4\n",
            "2 elevado a 3 es igual a: 8\n",
            "2 elevado a 4 es igual a: 16\n",
            "2 elevado a 5 es igual a: 32\n",
            "2 elevado a 6 es igual a: 64\n",
            "2 elevado a 7 es igual a: 128\n",
            "2 elevado a 8 es igual a: 256\n",
            "2 elevado a 9 es igual a: 512\n",
            "2 elevado a 10 es igual a: 1024\n",
            "2 elevado a 11 es igual a: 2048\n",
            "2 elevado a 12 es igual a: 4096\n",
            "2 elevado a 13 es igual a: 8192\n",
            "2 elevado a 14 es igual a: 16384\n",
            "2 elevado a 15 es igual a: 32768\n",
            "2 elevado a 16 es igual a: 65536\n",
            "2 elevado a 17 es igual a: 131072\n",
            "2 elevado a 18 es igual a: 262144\n",
            "2 elevado a 19 es igual a: 524288\n"
          ]
        }
      ]
    },
    {
      "cell_type": "markdown",
      "source": [
        "### 04 - Números Primos."
      ],
      "metadata": {
        "id": "VAwZ3CdXxGdy"
      }
    },
    {
      "cell_type": "code",
      "source": [
        "def es_primo(numero):\n",
        "    contador = 0\n",
        "\n",
        "    for i in range(1, numero + 1):\n",
        "        if i == 1 or i == numero:\n",
        "            continue\n",
        "        if numero % i == 0:\n",
        "            contador += 1\n",
        "    if contador == 0:\n",
        "        return True\n",
        "    else:\n",
        "        return False\n",
        "\n",
        "\n",
        "def run():\n",
        "    numero = int(input('Escribe un número: '))\n",
        "    if es_primo(numero):\n",
        "        print('Es primo')\n",
        "    else:\n",
        "        print('No es primo')\n",
        "\n",
        "\n",
        "if __name__ == '__main__':\n",
        "    run()"
      ],
      "metadata": {
        "id": "FJpl3VyHxOxE",
        "outputId": "563cd73c-cba9-4154-e744-0f12adccf9c2",
        "colab": {
          "base_uri": "https://localhost:8080/",
          "height": 0
        }
      },
      "execution_count": 4,
      "outputs": [
        {
          "output_type": "stream",
          "name": "stdout",
          "text": [
            "Escribe un número: 79\n",
            "Es primo\n"
          ]
        }
      ]
    },
    {
      "cell_type": "markdown",
      "source": [
        "### 05 - Adivina el Número."
      ],
      "metadata": {
        "id": "KJgujU2z0I6i"
      }
    },
    {
      "cell_type": "code",
      "source": [
        "import random   # Importación de un Módulo de Python \n",
        "\n",
        "\n",
        "def run():\n",
        "    numero_aleatorio = random.randint(1, 100)\n",
        "    numero_elegido = int(input('Elige un número del 1 al 100: '))\n",
        "    while numero_elegido != numero_aleatorio:\n",
        "        if numero_elegido < numero_aleatorio:\n",
        "            print('Busca un número más grande')\n",
        "        else:\n",
        "            print('Busca un número más pequeño')\n",
        "        numero_elegido = int(input('Elige otro número: '))\n",
        "    print('¡Ganaste!')\n",
        "\n",
        "\n",
        "if __name__ == '__main__':\n",
        "    run()"
      ],
      "metadata": {
        "id": "jqphSzar0NhG",
        "outputId": "d52889ab-ae53-4f66-ef1d-a27cfe72cbc0",
        "colab": {
          "base_uri": "https://localhost:8080/",
          "height": 0
        }
      },
      "execution_count": 5,
      "outputs": [
        {
          "output_type": "stream",
          "name": "stdout",
          "text": [
            "Elige un número del 1 al 100: 75\n",
            "Busca un número más pequeño\n",
            "Elige otro número: 20\n",
            "Busca un número más pequeño\n",
            "Elige otro número: 10\n",
            "Busca un número más pequeño\n",
            "Elige otro número: 3\n",
            "¡Ganaste!\n"
          ]
        }
      ]
    },
    {
      "cell_type": "markdown",
      "source": [
        "### 06 - Generador de Contraseñas."
      ],
      "metadata": {
        "id": "vMXefwMO6SWQ"
      }
    },
    {
      "cell_type": "code",
      "source": [
        "import random\n",
        "\n",
        "\n",
        "def generar_contrasena():\n",
        "    mayusculas = ['A', 'B', 'C', 'D', 'E', 'F', 'G','H', 'I', 'J', 'K', 'L', 'M', 'N','O', 'P', 'Q', 'R', 'S', 'T', 'U','V', 'W', 'X', 'Y', 'Z']\n",
        "    minusculas = ['a', 'b', 'c', 'd', 'e', 'f', 'g','h', 'i', 'j', 'k', 'l', 'm', 'n','o', 'p', 'q', 'r', 's', 't', 'u','v', 'w', 'x', 'y', 'z']\n",
        "    simbolos = ['!', '#', '$', '&', '/', '(', ')', '%', '[', ']', '+', '*', '{', '}']\n",
        "    numeros = ['1', '2', '3', '4', '5', '6', '7', '8', '9', '0']\n",
        "\n",
        "    caracteres = mayusculas + minusculas + simbolos + numeros\n",
        "\n",
        "    contrasena = []\n",
        "\n",
        "    for i in range(15):\n",
        "        caracter_random = random.choice(caracteres)\n",
        "        contrasena.append(caracter_random)\n",
        "\n",
        "    contrasena = \"\".join(contrasena)\n",
        "    return contrasena\n",
        "\n",
        "\n",
        "def run():\n",
        "    contrasena = generar_contrasena()\n",
        "    print('Tu nueva contraseña es: ' + contrasena)\n",
        "\n",
        "\n",
        "if __name__ == '__main__':\n",
        "    run()"
      ],
      "metadata": {
        "id": "4gyTi3-N6SrH",
        "outputId": "fa87394c-e1d4-46c4-e9c1-ea7c07e5cd55",
        "colab": {
          "base_uri": "https://localhost:8080/",
          "height": 0
        }
      },
      "execution_count": 9,
      "outputs": [
        {
          "output_type": "stream",
          "name": "stdout",
          "text": [
            "Tu nueva contraseña es: w2JqXlvv$LYIK*u\n"
          ]
        }
      ]
    },
    {
      "cell_type": "markdown",
      "source": [
        "### 06 - Diccionarios con listas y listas con diccionarios."
      ],
      "metadata": {
        "id": "cKcp8fkOYWU3"
      }
    },
    {
      "cell_type": "code",
      "source": [
        "def run():\n",
        "    my_list = [1, \"Hello\", True, 4.5]\n",
        "    my_dict = {\"firstname\": \"Facundo\", \"lastname\": \"García\"}\n",
        "\n",
        "    # Lista con diccionarios.\n",
        "\n",
        "    super_list = [\n",
        "        {\"firstname\": \"Facundo\", \"lastname\": \"García\"},\n",
        "        {\"firstname\": \"Miguel\", \"lastname\": \"Rodriguez\"},\n",
        "        {\"firstname\": \"Pablo\", \"lastname\": \"Trinidad\"},\n",
        "        {\"firstname\": \"Susana\", \"lastname\": \"Martinez\"},\n",
        "        {\"firstname\": \"José\", \"lastname\": \"Fernandez\"},\n",
        "    ]\n",
        "\n",
        "    # Diccionario con listas.\n",
        "\n",
        "    super_dict = {\n",
        "        \"natural_nums\": [1, 2, 3, 4, 5],\n",
        "        \"integer_nums\": [-1, -2, 3, 0, 1],\n",
        "        \"floating_nums\": [1.1, 4.55, 6.43],\n",
        "    }\n",
        "\n",
        "    for key, value in super_dict.items():\n",
        "        print(key, \">\", value)\n",
        "\n",
        "    print(\" \")\n",
        "\n",
        "    for element in super_list:\n",
        "        for key, value in element.items():\n",
        "            print(key, \">\", value)\n",
        "\n",
        "\n",
        "if __name__ == '__main__':\n",
        "    run()"
      ],
      "metadata": {
        "id": "S1v-F-SyYe1V",
        "outputId": "0e88b24c-0842-4dd0-f387-14578686b5b5",
        "colab": {
          "base_uri": "https://localhost:8080/",
          "height": 0
        }
      },
      "execution_count": 15,
      "outputs": [
        {
          "output_type": "stream",
          "name": "stdout",
          "text": [
            "natural_nums > [1, 2, 3, 4, 5]\n",
            "integer_nums > [-1, -2, 3, 0, 1]\n",
            "floating_nums > [1.1, 4.55, 6.43]\n",
            " \n",
            "firstname > Facundo\n",
            "lastname > García\n",
            "firstname > Miguel\n",
            "lastname > Rodriguez\n",
            "firstname > Pablo\n",
            "lastname > Trinidad\n",
            "firstname > Susana\n",
            "lastname > Martinez\n",
            "firstname > José\n",
            "lastname > Fernandez\n"
          ]
        }
      ]
    },
    {
      "cell_type": "markdown",
      "source": [
        "### 07 - List comprehensions."
      ],
      "metadata": {
        "id": "jAZE8zU-b3md"
      }
    },
    {
      "cell_type": "code",
      "source": [
        "def run():\n",
        "    squares = []               # Lista vacia\n",
        "    for i in range(1, 101):\n",
        "        squares.append(i**2)\n",
        "    print(squares)\n",
        "\n",
        "    print(\" \")\n",
        "\n",
        "    # List Comprehensions\n",
        "\n",
        "    square = [i**2 for i in range(1, 101) if i % 3 != 0]   # Estructura: [element for element in iterable if condition]\n",
        "    print(square)\n",
        "\n",
        "    print(\" \")\n",
        "\n",
        "    new_list = [i for i in range(1, 4000) if i % 4 == 0 and i % 6 == 0 and i % 9 == 0]\n",
        "    print(new_list)\n",
        "\n",
        "\n",
        "if __name__ == '__main__':\n",
        "    run()"
      ],
      "metadata": {
        "id": "BhCe4Ofbb9Gp",
        "outputId": "5e8d52e0-c075-4d28-8bd7-21922925d273",
        "colab": {
          "base_uri": "https://localhost:8080/"
        }
      },
      "execution_count": 24,
      "outputs": [
        {
          "output_type": "stream",
          "name": "stdout",
          "text": [
            "[1, 4, 9, 16, 25, 36, 49, 64, 81, 100, 121, 144, 169, 196, 225, 256, 289, 324, 361, 400, 441, 484, 529, 576, 625, 676, 729, 784, 841, 900, 961, 1024, 1089, 1156, 1225, 1296, 1369, 1444, 1521, 1600, 1681, 1764, 1849, 1936, 2025, 2116, 2209, 2304, 2401, 2500, 2601, 2704, 2809, 2916, 3025, 3136, 3249, 3364, 3481, 3600, 3721, 3844, 3969, 4096, 4225, 4356, 4489, 4624, 4761, 4900, 5041, 5184, 5329, 5476, 5625, 5776, 5929, 6084, 6241, 6400, 6561, 6724, 6889, 7056, 7225, 7396, 7569, 7744, 7921, 8100, 8281, 8464, 8649, 8836, 9025, 9216, 9409, 9604, 9801, 10000]\n",
            " \n",
            "[1, 4, 16, 25, 49, 64, 100, 121, 169, 196, 256, 289, 361, 400, 484, 529, 625, 676, 784, 841, 961, 1024, 1156, 1225, 1369, 1444, 1600, 1681, 1849, 1936, 2116, 2209, 2401, 2500, 2704, 2809, 3025, 3136, 3364, 3481, 3721, 3844, 4096, 4225, 4489, 4624, 4900, 5041, 5329, 5476, 5776, 5929, 6241, 6400, 6724, 6889, 7225, 7396, 7744, 7921, 8281, 8464, 8836, 9025, 9409, 9604, 10000]\n",
            " \n",
            "[36, 72, 108, 144, 180, 216, 252, 288, 324, 360, 396, 432, 468, 504, 540, 576, 612, 648, 684, 720, 756, 792, 828, 864, 900, 936, 972, 1008, 1044, 1080, 1116, 1152, 1188, 1224, 1260, 1296, 1332, 1368, 1404, 1440, 1476, 1512, 1548, 1584, 1620, 1656, 1692, 1728, 1764, 1800, 1836, 1872, 1908, 1944, 1980, 2016, 2052, 2088, 2124, 2160, 2196, 2232, 2268, 2304, 2340, 2376, 2412, 2448, 2484, 2520, 2556, 2592, 2628, 2664, 2700, 2736, 2772, 2808, 2844, 2880, 2916, 2952, 2988, 3024, 3060, 3096, 3132, 3168, 3204, 3240, 3276, 3312, 3348, 3384, 3420, 3456, 3492, 3528, 3564, 3600, 3636, 3672, 3708, 3744, 3780, 3816, 3852, 3888, 3924, 3960, 3996]\n"
          ]
        }
      ]
    }
  ]
}