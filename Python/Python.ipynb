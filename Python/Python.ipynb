{
  "nbformat": 4,
  "nbformat_minor": 0,
  "metadata": {
    "colab": {
      "name": "Python.ipynb",
      "provenance": [],
      "include_colab_link": true
    },
    "kernelspec": {
      "name": "python3",
      "display_name": "Python 3"
    },
    "language_info": {
      "name": "python"
    }
  },
  "cells": [
    {
      "cell_type": "markdown",
      "metadata": {
        "id": "view-in-github",
        "colab_type": "text"
      },
      "source": [
        "<a href=\"https://colab.research.google.com/github/OmarPhysics/Platzi_Courses/blob/main/Python/Python.ipynb\" target=\"_parent\"><img src=\"https://colab.research.google.com/assets/colab-badge.svg\" alt=\"Open In Colab\"/></a>"
      ]
    },
    {
      "cell_type": "markdown",
      "source": [
        "# Programas Sencillos en Python"
      ],
      "metadata": {
        "id": "uiGH8Fu0LTi2"
      }
    },
    {
      "cell_type": "markdown",
      "source": [
        "### 01 - Conversor de pesos a dolares."
      ],
      "metadata": {
        "id": "zjRTyeqyLhvu"
      }
    },
    {
      "cell_type": "code",
      "execution_count": 1,
      "metadata": {
        "id": "S_zBEQnU3w9S",
        "colab": {
          "base_uri": "https://localhost:8080/"
        },
        "outputId": "ec763b89-1042-4ec9-e213-8ec71cdb9552"
      },
      "outputs": [
        {
          "output_type": "stream",
          "name": "stdout",
          "text": [
            "\n",
            "Bienvenido al conversor de monedas 💰\n",
            "\n",
            "1 - Pesos colombianos\n",
            "2 - Pesos argentinos\n",
            "3 - Pesos mexicanos\n",
            "\n",
            "Elige una opción: 3\n",
            "¿Cuántos pesos mexicanos tienes?: 150\n",
            "Tienes $6.25 dólares\n"
          ]
        }
      ],
      "source": [
        "# Defininición de la función que transforma pesos a dolares\n",
        "\n",
        "def conversor(tipo_pesos, valor_dolar):\n",
        "    pesos = input(\"¿Cuántos pesos \" + tipo_pesos + \" tienes?: \")\n",
        "    pesos = float(pesos)\n",
        "    dolares = pesos / valor_dolar\n",
        "    dolares = round(dolares, 2)\n",
        "    dolares = str(dolares)\n",
        "    print(\"Tienes $\" + dolares + \" dólares\")\n",
        "\n",
        " # Menu para el usiario.    \n",
        "\n",
        "menu = \"\"\"\n",
        "Bienvenido al conversor de monedas 💰\n",
        "\n",
        "1 - Pesos colombianos\n",
        "2 - Pesos argentinos\n",
        "3 - Pesos mexicanos\n",
        "\n",
        "Elige una opción: \"\"\"\n",
        "\n",
        "opcion = input(menu)\n",
        "opcion = int(opcion)\n",
        "\n",
        "if opcion == 1:\n",
        "    conversor(\"colombianos\", 3875)  # 3875 pesos colombianos son un dolar\n",
        "elif opcion == 2:\n",
        "    conversor(\"argentinos\", 65)     # 65 pesos argentinos son un dolar\n",
        "elif opcion == 3:\n",
        "    conversor(\"mexicanos\", 24)      # 24 pesoso mexicanos son un dolar\n",
        "else:\n",
        "    print('Ingresa una opción correcta por favor')  # Si no se ingresa un valor del menu indicar que no es una opción correcta"
      ]
    },
    {
      "cell_type": "markdown",
      "source": [
        "### 02 - Palíndromos."
      ],
      "metadata": {
        "id": "2yf1oOa-Zvbj"
      }
    },
    {
      "cell_type": "code",
      "source": [
        "# Definición de la función palíndromo\n",
        "\n",
        "def palindromo(palabra):\n",
        "    palabra = palabra.replace(' ', '')   # Remplazar los espacios de la frase introducida por \"nada\", es decir, eliminar espacios\n",
        "    palabra = palabra.lower()            # Transformar toda la frase a minusculas\n",
        "    palabra_invertida = palabra[::-1]    # Invertir la frase y almacenarla en otra variable\n",
        "    if palabra == palabra_invertida:     # Si la frase original y la invertida son iguales regresar \"verdadero\" y si no lo son regresar \"falso\"\n",
        "        return True\n",
        "    else:\n",
        "        return False\n",
        "\n",
        "# Definición de la función que muestra si es la frase o palabra es un palíndromo o no\n",
        "\n",
        "def run():\n",
        "    palabra = input('Escribe una palabra o frase: ')   # Se solicita el ingreso de una frase\n",
        "    es_palindromo = palindromo(palabra)                # Se introduce la frase o palabra a la función \"palabra\" y se muestra en pantalla el resultado\n",
        "    if es_palindromo == True: \n",
        "        print('Es palíndromo')\n",
        "    else:\n",
        "        print('No es palíndromo')\n",
        "\n",
        "\n",
        "if __name__ == '__main__':\n",
        "    run()"
      ],
      "metadata": {
        "id": "_mg9j0uXMAx8",
        "colab": {
          "base_uri": "https://localhost:8080/"
        },
        "outputId": "a8f19226-4fb3-42a2-8799-5e052616f83b"
      },
      "execution_count": 2,
      "outputs": [
        {
          "output_type": "stream",
          "name": "stdout",
          "text": [
            "Escribe una palabra o frase: anita lava la tina\n",
            "Es palíndromo\n"
          ]
        }
      ]
    },
    {
      "cell_type": "markdown",
      "source": [
        "### Potencias de 2."
      ],
      "metadata": {
        "id": "9RNUhK_GkDIZ"
      }
    },
    {
      "cell_type": "code",
      "source": [
        "# Definición de la función \n",
        "\n",
        "def run():\n",
        "    LIMITE = 100000000                           # Se define una constante usando mayúsculas\n",
        "\n",
        "    contador = 0                                 # Se define una variable que comienza con el valor cero\n",
        "    potencia_2 = 2**contador                     # Se define la operación potencia \n",
        "    while potencia_2 < LIMITE:                   # Ciclo \"while\" para determinar las potencias de 2 mientras que el valor no exceda la constante LIMITE\n",
        "        print('2 elevado a ' + str(contador) +\n",
        "              ' es igual a: ' + str(potencia_2))\n",
        "        contador = contador + 1\n",
        "        potencia_2 = 2**contador\n",
        "\n",
        "\n",
        "if __name__ == '__main__':\n",
        "    run()"
      ],
      "metadata": {
        "id": "o1v5dneskTMO"
      },
      "execution_count": null,
      "outputs": []
    }
  ]
}