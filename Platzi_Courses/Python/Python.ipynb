{
  "nbformat": 4,
  "nbformat_minor": 0,
  "metadata": {
    "colab": {
      "name": "Python.ipynb",
      "provenance": [],
      "authorship_tag": "ABX9TyPlrjhEA839waFUeeaqEH4R",
      "include_colab_link": true
    },
    "kernelspec": {
      "name": "python3",
      "display_name": "Python 3"
    },
    "language_info": {
      "name": "python"
    }
  },
  "cells": [
    {
      "cell_type": "markdown",
      "metadata": {
        "id": "view-in-github",
        "colab_type": "text"
      },
      "source": [
        "<a href=\"https://colab.research.google.com/github/OmarPhysics/Platzi_Courses/blob/main/Platzi_Courses/Python/Python.ipynb\" target=\"_parent\"><img src=\"https://colab.research.google.com/assets/colab-badge.svg\" alt=\"Open In Colab\"/></a>"
      ]
    },
    {
      "cell_type": "markdown",
      "source": [
        "# Programas Sencillos en Python"
      ],
      "metadata": {
        "id": "uiGH8Fu0LTi2"
      }
    },
    {
      "cell_type": "markdown",
      "source": [
        "### 01 - Conversor de pesos a dolares."
      ],
      "metadata": {
        "id": "zjRTyeqyLhvu"
      }
    },
    {
      "cell_type": "code",
      "execution_count": 5,
      "metadata": {
        "id": "S_zBEQnU3w9S",
        "colab": {
          "base_uri": "https://localhost:8080/"
        },
        "outputId": "eaebc696-0893-4205-c3b8-707a8b6b66a9"
      },
      "outputs": [
        {
          "output_type": "stream",
          "name": "stdout",
          "text": [
            "\n",
            "Bienvenido al conversor de monedas 💰\n",
            "\n",
            "1 - Pesos colombianos\n",
            "2 - Pesos argentinos\n",
            "3 - Pesos mexicanos\n",
            "\n",
            "Elige una opción: 3\n",
            "¿Cuántos pesos mexicanos tienes?: 150\n",
            "Tienes $6.25 dólares\n"
          ]
        }
      ],
      "source": [
        "def conversor(tipo_pesos, valor_dolar):\n",
        "    pesos = input(\"¿Cuántos pesos \" + tipo_pesos + \" tienes?: \")\n",
        "    pesos = float(pesos)\n",
        "    dolares = pesos / valor_dolar\n",
        "    dolares = round(dolares, 2)\n",
        "    dolares = str(dolares)\n",
        "    print(\"Tienes $\" + dolares + \" dólares\")\n",
        "\n",
        "menu = \"\"\"\n",
        "Bienvenido al conversor de monedas 💰\n",
        "\n",
        "1 - Pesos colombianos\n",
        "2 - Pesos argentinos\n",
        "3 - Pesos mexicanos\n",
        "\n",
        "Elige una opción: \"\"\"\n",
        "\n",
        "opcion = int(input(menu))\n",
        "\n",
        "if opcion == 1:\n",
        "    conversor(\"colombianos\", 3875)\n",
        "elif opcion == 2:\n",
        "    conversor(\"argentinos\", 65)\n",
        "elif opcion == 3:\n",
        "    conversor(\"mexicanos\", 24)\n",
        "else:\n",
        "    print('Ingresa una opción correcta por favor')"
      ]
    },
    {
      "cell_type": "code",
      "source": [
        ""
      ],
      "metadata": {
        "id": "_mg9j0uXMAx8"
      },
      "execution_count": null,
      "outputs": []
    }
  ]
}