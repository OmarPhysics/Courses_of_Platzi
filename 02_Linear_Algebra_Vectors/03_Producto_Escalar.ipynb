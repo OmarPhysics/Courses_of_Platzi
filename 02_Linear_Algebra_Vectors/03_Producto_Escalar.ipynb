{
  "nbformat": 4,
  "nbformat_minor": 0,
  "metadata": {
    "kernelspec": {
      "display_name": "Python 3",
      "language": "python",
      "name": "python3"
    },
    "language_info": {
      "codemirror_mode": {
        "name": "ipython",
        "version": 3
      },
      "file_extension": ".py",
      "mimetype": "text/x-python",
      "name": "python",
      "nbconvert_exporter": "python",
      "pygments_lexer": "ipython3",
      "version": "3.7.3"
    },
    "colab": {
      "name": "03_Producto_Escalar.ipynb",
      "provenance": [],
      "include_colab_link": true
    }
  },
  "cells": [
    {
      "cell_type": "markdown",
      "metadata": {
        "id": "view-in-github",
        "colab_type": "text"
      },
      "source": [
        "<a href=\"https://colab.research.google.com/github/OmarPhysics/Courses_of_Platzi/blob/main/02_Linear_Algebra_Vectors/03_Producto_Escalar.ipynb\" target=\"_parent\"><img src=\"https://colab.research.google.com/assets/colab-badge.svg\" alt=\"Open In Colab\"/></a>"
      ]
    },
    {
      "cell_type": "markdown",
      "metadata": {
        "id": "IN75fx-sVHvI"
      },
      "source": [
        "# 3. Producto por un escalar o multiplicación escalar-vector."
      ]
    },
    {
      "cell_type": "markdown",
      "metadata": {
        "id": "6WMwQfP7VHvO"
      },
      "source": [
        "Otra operación es el *producto por un escalar* o *multiplicación escalar-vector* en la cual un vector es multiplicado por un escalar. La operación se hace elemento a elemento. Sea $\\vec{v}$ un vector de $\\mathbb{R}^{n}$ y $\\alpha \\in \\mathbb{R}$. Si $\\vec{x} = \\alpha \\vec{v}$ entonces:\n",
        "$$\n",
        "\\vec{x} = \\alpha \\vec{v} =   \\alpha\\begin{bmatrix}v_{0}\\\\ v_{1}\\\\ \\vdots \\\\ v_{n-1}\\end{bmatrix} = \\begin{bmatrix}\\alpha \\cdot v_{0}\\\\ \\alpha \\cdot v_{1}\\\\ \\vdots \\\\ \\alpha \\cdot v_{n-1}\\end{bmatrix}\n",
        "$$"
      ]
    },
    {
      "cell_type": "markdown",
      "metadata": {
        "id": "BIpSWwTMVHvQ"
      },
      "source": [
        "Por ejemplo, si $\\vec{v} = (0,1,-2.3)$ y $\\alpha = -1.1$ entonces $\\alpha \\vec{v} = (0,-1.1,2.53)$"
      ]
    },
    {
      "cell_type": "markdown",
      "metadata": {
        "id": "yjNaGc9aVHvR"
      },
      "source": [
        "## 3.1 Propiedades del producto por un escalar-vector"
      ]
    },
    {
      "cell_type": "markdown",
      "metadata": {
        "id": "NsOd4BMDVHvS"
      },
      "source": [
        "Sean $\\vec{x},\\vec{y}$ dos vectores y $\\alpha, \\beta$ dos escalares cualquiera. Las propiedades que cumple el producto escalar-vector son las siguientes:\n",
        "* Conmutatividad: $\\alpha \\vec{x} = \\vec{x}\\alpha $\n",
        "\n",
        "* Asociatividad: $(\\beta \\alpha)\\vec{x} = \\beta (\\alpha\\vec{x})$\n",
        "\n",
        "* Distribución sobre suma escalar: $(\\alpha + \\beta)\\vec{x} = \\alpha \\vec{x} + \\beta\\vec{x} =\\beta\\vec{x} + \\alpha\\vec{x} = \\vec{x}(\\alpha + \\beta) $\n",
        "\n",
        "* Distribución sobre suma de vectores: $\\alpha (\\vec{x}+\\vec{y}) = \\alpha\\vec{x} + \\alpha\\vec{y}$"
      ]
    },
    {
      "cell_type": "markdown",
      "metadata": {
        "id": "DdQtc-jpVHvT"
      },
      "source": [
        "## 3.2 Algunas consideraciones"
      ]
    },
    {
      "cell_type": "markdown",
      "metadata": {
        "id": "FSEbsceUVHvT"
      },
      "source": [
        "**Combinaciones lineales**. Sean $\\vec{a}_{0},\\vec{a}_{1},\\dots,\\vec{a}_{m-1}$ $n$-vectores y $\\beta_{0},\\beta_{1},\\dots,\\beta_{m-1}$ escalares entonces podemos definir el siguiente $n$-vector:\n",
        "\n",
        "$$\n",
        "\\beta_{0}\\vec{a}_{0}+\\beta_{1}\\vec{a}_{1}+\\cdots+\\beta_{m-1}\\vec{a}_{m-1}\n",
        "$$\n",
        "\n",
        "Es llamado una *combinación lineal* de los vectores $\\vec{a}_{0},\\vec{a}_{1},\\dots,\\vec{a}_{m-1}$. Los escalares $\\beta_{0},\\beta_{1},\\dots,\\beta_{m-1}$ son llamados los *coeficientes* de la combinación lineal."
      ]
    },
    {
      "cell_type": "markdown",
      "metadata": {
        "id": "vQeKwGW8VHvV"
      },
      "source": [
        "  "
      ]
    },
    {
      "cell_type": "markdown",
      "metadata": {
        "id": "aeTUlGFdVHvW"
      },
      "source": [
        "**Combinaciones lineales de vectores unitarios**. Es posible escribir cualquier $\\vec{b}$ $n$-vector como combinación lineal de los vectores unitarios estándar:\n",
        "\n",
        "$$\n",
        "\\vec{b} = b_{0}\\hat{e}_{0}+b_{1}\\hat{e}_{1} + \\cdots +b_{n-1}\\hat{e}_{n-1}\n",
        "$$\n",
        "\n",
        "Con $b_{i}$ escalares y $\\hat{e}_{i}$ el i-ésimo vector unitario. Un ejemplo específico sería:\n",
        "\n",
        "$$\n",
        "\\begin{bmatrix}1\\\\ -1\\\\ 0\\end{bmatrix} = (1)\\begin{bmatrix}1\\\\ 0\\\\ 0\\end{bmatrix} + (-1)\\begin{bmatrix}0\\\\ 1\\\\ 0\\end{bmatrix} + (0)\\begin{bmatrix}0\\\\ 0\\\\ 1\\end{bmatrix}\n",
        "$$\n",
        "\n",
        "Como nota final aquí, notemos que si el espacio vectorial es de dimensión $n$ entonces tiene $n$ vectores unitarios $\\hat{e}_{i}$\n"
      ]
    },
    {
      "cell_type": "markdown",
      "metadata": {
        "id": "mmhf6r7sVHvX"
      },
      "source": [
        "  "
      ]
    },
    {
      "cell_type": "markdown",
      "metadata": {
        "id": "iQcKvqt4VHvY"
      },
      "source": [
        "**Combinaciones lineales especiales**. Algunas combinaciones de $n$-vectores $\\vec{a}_{0},\\vec{a}_{1},\\dots,\\vec{a}_{m-1}$ tienen nombres especiales.  Por ejemplo, si los coeficientes de la combinación lineal son tales que $\\beta_{0}=\\beta_{1}=\\cdots=\\beta_{m-1} = 1$ entonces simplemente es una suma de vectores. Si en cambio $\\beta_{0}=\\beta_{1}=\\cdots=\\beta_{m-1} = 1/m$ entonces la combinación lineal se llama el *promedio de vectores*.       \n",
        "Cuando $\\beta_{0}+\\beta_{1}+\\cdots+\\beta_{m-1}=1$ entonces la combinación lineal se llama *combinación afín*, cuando los coeficientes $\\beta_{i}$ son no-negativos entonces la combinación lineal es llamada una *mezcla*, *combinación convexa* o un *promedio pesado*."
      ]
    },
    {
      "cell_type": "markdown",
      "metadata": {
        "id": "tZ0uVqQGVHvY"
      },
      "source": [
        "## 3.3 Producto por un escalar-vector en Python"
      ]
    },
    {
      "cell_type": "markdown",
      "metadata": {
        "id": "QoEqXfv_VHvZ"
      },
      "source": [
        "Desde la clase pasada introducimos Numpy para manejo de vectores. Una de las fortunas de usar numpy sobre listas es la simpleta de este tipo de operaciones. Realizar esta operación será tan sencillo como usar el operador $*$. "
      ]
    },
    {
      "cell_type": "markdown",
      "metadata": {
        "id": "xiPxglwrVHva"
      },
      "source": [
        "Partamos del vector $\\vec{x}= (1,-1,1)$ y del escalar $a = 3.1$ entonces, realicemos las operaciones $a\\vec{x}$ y $\\vec{x}a$"
      ]
    },
    {
      "cell_type": "code",
      "metadata": {
        "id": "9DZbmk6CVHva"
      },
      "source": [
        "import numpy as np #primero importamos numpy"
      ],
      "execution_count": 1,
      "outputs": []
    },
    {
      "cell_type": "code",
      "metadata": {
        "id": "ye0qnKpEVHvb"
      },
      "source": [
        "x = np.array([1,-1,1]) #declaramos el vector x\n",
        "\n",
        "a = 3.1 #declaramos el escalar a"
      ],
      "execution_count": 2,
      "outputs": []
    },
    {
      "cell_type": "code",
      "metadata": {
        "colab": {
          "base_uri": "https://localhost:8080/"
        },
        "id": "nt2NcuEKVHvc",
        "outputId": "f554b3bd-5988-4dee-987e-16ccff3e1065"
      },
      "source": [
        "print('ax es',a*x)"
      ],
      "execution_count": 3,
      "outputs": [
        {
          "output_type": "stream",
          "text": [
            "ax es [ 3.1 -3.1  3.1]\n"
          ],
          "name": "stdout"
        }
      ]
    },
    {
      "cell_type": "code",
      "metadata": {
        "colab": {
          "base_uri": "https://localhost:8080/"
        },
        "id": "AAdmYa80VHvd",
        "outputId": "5cfe8e02-83a4-4b81-ac26-8e4b0314fc47"
      },
      "source": [
        "print('xa es',x*a)"
      ],
      "execution_count": 4,
      "outputs": [
        {
          "output_type": "stream",
          "text": [
            "xa es [ 3.1 -3.1  3.1]\n"
          ],
          "name": "stdout"
        }
      ]
    },
    {
      "cell_type": "code",
      "metadata": {
        "id": "H_97VEAeVHve"
      },
      "source": [
        "b = -a"
      ],
      "execution_count": 5,
      "outputs": []
    },
    {
      "cell_type": "code",
      "metadata": {
        "colab": {
          "base_uri": "https://localhost:8080/"
        },
        "id": "lFQYaIQ7VHvf",
        "outputId": "0d750be1-45ac-4e34-8ca9-33727661dd2c"
      },
      "source": [
        "print('(b+a)x es',(b+a)*x)"
      ],
      "execution_count": 6,
      "outputs": [
        {
          "output_type": "stream",
          "text": [
            "(b+a)x es [ 0. -0.  0.]\n"
          ],
          "name": "stdout"
        }
      ]
    },
    {
      "cell_type": "code",
      "metadata": {
        "colab": {
          "base_uri": "https://localhost:8080/"
        },
        "id": "dgNAKvKTVHvf",
        "outputId": "5099494e-c8a5-4b00-b495-39f4bd8965e1"
      },
      "source": [
        "print('xa+xb es',b*x+ x*a)"
      ],
      "execution_count": 7,
      "outputs": [
        {
          "output_type": "stream",
          "text": [
            "xa+xb es [0. 0. 0.]\n"
          ],
          "name": "stdout"
        }
      ]
    },
    {
      "cell_type": "markdown",
      "metadata": {
        "id": "FR4y2WnkVHvh"
      },
      "source": [
        "Ahora un ejecio más $\\vec{v} = (1,1)$. Si consideramos a = -1, b = 2, c = 0.1"
      ]
    },
    {
      "cell_type": "code",
      "metadata": {
        "id": "egTM1uhwVHvi"
      },
      "source": [
        "v = np.array([1,1])\n",
        "a = -1\n",
        "b = 2\n",
        "c = 0.1"
      ],
      "execution_count": 8,
      "outputs": []
    },
    {
      "cell_type": "code",
      "metadata": {
        "colab": {
          "base_uri": "https://localhost:8080/"
        },
        "id": "xfikCpHVVHvj",
        "outputId": "d7c66982-43ab-44b9-b036-9ca3db55a631"
      },
      "source": [
        "v*a"
      ],
      "execution_count": 9,
      "outputs": [
        {
          "output_type": "execute_result",
          "data": {
            "text/plain": [
              "array([-1, -1])"
            ]
          },
          "metadata": {
            "tags": []
          },
          "execution_count": 9
        }
      ]
    },
    {
      "cell_type": "code",
      "metadata": {
        "colab": {
          "base_uri": "https://localhost:8080/"
        },
        "id": "wn_gDFrwVHvk",
        "outputId": "7b05b35e-07e9-418e-e237-4e8cce4343cb"
      },
      "source": [
        "v*b"
      ],
      "execution_count": 10,
      "outputs": [
        {
          "output_type": "execute_result",
          "data": {
            "text/plain": [
              "array([2, 2])"
            ]
          },
          "metadata": {
            "tags": []
          },
          "execution_count": 10
        }
      ]
    },
    {
      "cell_type": "code",
      "metadata": {
        "colab": {
          "base_uri": "https://localhost:8080/"
        },
        "id": "08DlYjPiVHvk",
        "outputId": "eafe744a-e39e-4990-fb27-812d3735d0cf"
      },
      "source": [
        "v*c"
      ],
      "execution_count": 11,
      "outputs": [
        {
          "output_type": "execute_result",
          "data": {
            "text/plain": [
              "array([0.1, 0.1])"
            ]
          },
          "metadata": {
            "tags": []
          },
          "execution_count": 11
        }
      ]
    },
    {
      "cell_type": "markdown",
      "metadata": {
        "id": "kkjET1tcVHvl"
      },
      "source": [
        "## 3.3 Ejercicios"
      ]
    },
    {
      "cell_type": "markdown",
      "metadata": {
        "id": "pbANX28oVHvm"
      },
      "source": [
        "**Problema 1**. Escribe TODOS los vectores unitarios estándar de $\\mathbb{R}^{4}$. *Hint:* son cuatro. "
      ]
    },
    {
      "cell_type": "markdown",
      "metadata": {
        "id": "bpfDdqlaVHvm"
      },
      "source": [
        "**Problema 2**. Escribe tres combinaciones lineales de vectores en $\\mathbb{R}^{3}$ para expresar el vector $[1,1,1]$."
      ]
    },
    {
      "cell_type": "markdown",
      "metadata": {
        "id": "hfXHuHYRVHvn"
      },
      "source": [
        "**Problema 3.** Escribe tres combinaciones afines con vectores de $\\mathbb{R}^{3}$ donde $\\beta_{0}\\neq\\beta_{1}\\neq\\beta_{2}$ pero que se cumpla que $\\beta_{0}+\\beta_{1}+\\beta_{2}=1$. *HINT*: Si no se te ocurre ninguna combinación para los coeficientes la ecuación $\\beta_{0}+\\beta_{1}+\\beta_{2}=1$ tiene infinitas soluciones, puedes hacer un programa para encontrar tres. "
      ]
    },
    {
      "cell_type": "code",
      "metadata": {
        "id": "xEEtyDPDVHvn"
      },
      "source": [
        "a = np.linspace(0,5,1000)"
      ],
      "execution_count": 12,
      "outputs": []
    },
    {
      "cell_type": "code",
      "metadata": {
        "colab": {
          "base_uri": "https://localhost:8080/"
        },
        "id": "zT98DuoMVHvo",
        "outputId": "73711529-56f7-4f6c-b3c5-bc0ae31af9d0"
      },
      "source": [
        "a[1]-a[0]"
      ],
      "execution_count": 13,
      "outputs": [
        {
          "output_type": "execute_result",
          "data": {
            "text/plain": [
              "0.005005005005005005"
            ]
          },
          "metadata": {
            "tags": []
          },
          "execution_count": 13
        }
      ]
    },
    {
      "cell_type": "code",
      "metadata": {
        "colab": {
          "base_uri": "https://localhost:8080/"
        },
        "id": "a2Tuxnt8VHvp",
        "outputId": "c9beb70b-6c65-490f-ab2a-434e953c0ea7"
      },
      "source": [
        "a[2]-a[1]"
      ],
      "execution_count": 14,
      "outputs": [
        {
          "output_type": "execute_result",
          "data": {
            "text/plain": [
              "0.005005005005005005"
            ]
          },
          "metadata": {
            "tags": []
          },
          "execution_count": 14
        }
      ]
    },
    {
      "cell_type": "code",
      "metadata": {
        "colab": {
          "base_uri": "https://localhost:8080/"
        },
        "id": "iwrvsNYwVHvq",
        "outputId": "fd92f6af-1c5a-43ce-fc63-ea2b86bace74"
      },
      "source": [
        "a[999]-a[998]"
      ],
      "execution_count": 15,
      "outputs": [
        {
          "output_type": "execute_result",
          "data": {
            "text/plain": [
              "0.005005005005005003"
            ]
          },
          "metadata": {
            "tags": []
          },
          "execution_count": 15
        }
      ]
    },
    {
      "cell_type": "code",
      "metadata": {
        "colab": {
          "base_uri": "https://localhost:8080/"
        },
        "id": "mkFDgpYDVHvr",
        "outputId": "0411973d-9fbc-4a77-870b-c3e5dfa4f72c"
      },
      "source": [
        "a[0]"
      ],
      "execution_count": 16,
      "outputs": [
        {
          "output_type": "execute_result",
          "data": {
            "text/plain": [
              "0.0"
            ]
          },
          "metadata": {
            "tags": []
          },
          "execution_count": 16
        }
      ]
    },
    {
      "cell_type": "code",
      "metadata": {
        "colab": {
          "base_uri": "https://localhost:8080/"
        },
        "id": "cuuL-QX3VHvr",
        "outputId": "5a89f21f-8e94-41cf-a2bd-8c4c4f8381ac"
      },
      "source": [
        "a[999]"
      ],
      "execution_count": 17,
      "outputs": [
        {
          "output_type": "execute_result",
          "data": {
            "text/plain": [
              "5.0"
            ]
          },
          "metadata": {
            "tags": []
          },
          "execution_count": 17
        }
      ]
    },
    {
      "cell_type": "code",
      "metadata": {
        "id": "qAG91CaSVHvs"
      },
      "source": [
        ""
      ],
      "execution_count": 17,
      "outputs": []
    }
  ]
}