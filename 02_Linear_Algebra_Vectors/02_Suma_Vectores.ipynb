{
  "nbformat": 4,
  "nbformat_minor": 0,
  "metadata": {
    "kernelspec": {
      "display_name": "Python 3",
      "language": "python",
      "name": "python3"
    },
    "language_info": {
      "codemirror_mode": {
        "name": "ipython",
        "version": 3
      },
      "file_extension": ".py",
      "mimetype": "text/x-python",
      "name": "python",
      "nbconvert_exporter": "python",
      "pygments_lexer": "ipython3",
      "version": "3.7.3"
    },
    "colab": {
      "name": "Suma_vectores.ipynb",
      "provenance": [],
      "collapsed_sections": [],
      "include_colab_link": true
    }
  },
  "cells": [
    {
      "cell_type": "markdown",
      "metadata": {
        "id": "view-in-github",
        "colab_type": "text"
      },
      "source": [
        "<a href=\"https://colab.research.google.com/github/OmarPhysics/Courses_of_Platzi/blob/main/02_Linear_Algebra_Vectors/02_Suma_Vectores.ipynb\" target=\"_parent\"><img src=\"https://colab.research.google.com/assets/colab-badge.svg\" alt=\"Open In Colab\"/></a>"
      ]
    },
    {
      "cell_type": "markdown",
      "metadata": {
        "id": "hcNeI71ctSby"
      },
      "source": [
        "# 2. Adición entre vectores."
      ]
    },
    {
      "cell_type": "markdown",
      "metadata": {
        "id": "CHh_IHvptSb6"
      },
      "source": [
        "La información de vectores de la **misma dimensión** se puede *juntar* sumando elemento a elemento sus entradas. A esta operación entre vectores se le conoce como suma y es denotada por el operador $+$."
      ]
    },
    {
      "cell_type": "markdown",
      "metadata": {
        "id": "bcm8_pe3tSb7"
      },
      "source": [
        "Así pues, sean $a,b,c$ $n$-vectores de $\\mathbb{R}^{n}$ donde $c=a+b$, la operación se ilustra como:\n",
        "\n",
        "$$\n",
        "c = a+b = \\begin{bmatrix}a_{0}\\\\ a_{1}\\\\\\vdots \\\\ a_{n-1}\\end{bmatrix} + \\begin{bmatrix}b_{0}\\\\ b_{1}\\\\\\vdots \\\\ b_{n-1}\\end{bmatrix} = \\begin{bmatrix}a_{0} + b_{0}\\\\ a_{1}+b_{1}\\\\\\vdots \\\\ a_{n-1}+b_{n-1}\\end{bmatrix} \n",
        "$$\n"
      ]
    },
    {
      "cell_type": "markdown",
      "metadata": {
        "id": "pS_q7KhotSb7"
      },
      "source": [
        "Por ejemplo:\n",
        "$$\n",
        "\\begin{bmatrix} 0\\\\ 1\\\\ 2\\end{bmatrix} + \\begin{bmatrix}2\\\\ 3\\\\ -1\\end{bmatrix} = \\begin{bmatrix}0+2\\\\ 1+3 \\\\ 2-1\\end{bmatrix} = \\begin{bmatrix}2\\\\ 4 \\\\ 1\\end{bmatrix} \n",
        "$$\n",
        "Y también:\n",
        "$$\n",
        " \\left( 1 , 2 , 3 \\right) + \\left( -1 ,-2 , -3 \\right) = \\left( 1-1 , 2-2 , 3-3 \\right) = \\left( 0 , 0 , 0 \\right) = \\mathbf{0}\n",
        "$$"
      ]
    },
    {
      "cell_type": "markdown",
      "metadata": {
        "id": "ggrYoT3-tSb8"
      },
      "source": [
        "## 2.1 Propiedades de la adición"
      ]
    },
    {
      "cell_type": "markdown",
      "metadata": {
        "id": "gfmdlcP7tSb8"
      },
      "source": [
        "La suma entre vectores es llamada una *operación algebraíca* y esta cumple ciertas propiedades. Consideremos $\\displaystyle\\vec{a},\\displaystyle\\vec{b},\\displaystyle\\vec{c}$ vectores de $\\mathbb{R}^n$ entonces:\n",
        "\n",
        "* La suma de vectores es *conmutativa*: $\\vec{a}+\\vec{b} = \\vec{b}+\\vec{a}$\n",
        "\n",
        "* La suma de vectores es *asociativa*: $(\\vec{a}+\\vec{b})+\\vec{c} = \\vec{a}+(\\vec{b}+\\vec{c})$. Por esto último podemos escribir libremente $\\vec{a}+\\vec{b}+\\vec{c}$ ya que el resultado no cambiará según qué pareja de vectores sumemos primero. \n",
        "\n",
        "* La suma entre vectores, cuando uno es el vector cero, no surte algún efecto sobre el otro vector: $\\vec{a}+\\vec{0}=\\vec{0}+\\vec{a}=\\vec{a}$\n",
        "\n",
        "* Suma un vector con su inverso o lo que es lo mismo restar dos vectores iguales nos deja con el vector cero: $\\vec{a}-\\vec{a}=\\vec{0}$"
      ]
    },
    {
      "cell_type": "markdown",
      "metadata": {
        "id": "l8Jgbg8XtSb8"
      },
      "source": [
        "**Advertencia:** No todas las operaciones son cerradas en su espacio vectorial."
      ]
    },
    {
      "cell_type": "markdown",
      "metadata": {
        "id": "RvILIW3wtSb9"
      },
      "source": [
        "## 2.2 Suma de vectores en Python"
      ]
    },
    {
      "cell_type": "markdown",
      "metadata": {
        "id": "lHpp0lmttSb9"
      },
      "source": [
        "Vamos a rescatar el ejemplo de la clase pasada: el modelo aditivo RGB."
      ]
    },
    {
      "cell_type": "markdown",
      "metadata": {
        "id": "8yu8LJM8tSb9"
      },
      "source": [
        "Sabemos que podemos representar los vectores como listas, por ejemplo, el negro y el rojo son:"
      ]
    },
    {
      "cell_type": "code",
      "metadata": {
        "id": "ykxmgzM_tSb-"
      },
      "source": [
        "rojo = [255,0,0]\n",
        "negro = [0,0,0]"
      ],
      "execution_count": null,
      "outputs": []
    },
    {
      "cell_type": "markdown",
      "metadata": {
        "id": "wVAKU7RGtSb-"
      },
      "source": [
        "El gran problema es que en Python el operador $+$ entre listas respresenta concatenación y no suma entrada a entrada:"
      ]
    },
    {
      "cell_type": "code",
      "metadata": {
        "id": "a8N686BotSb_",
        "outputId": "b5087212-9a8f-4777-af79-e43b06733ccc"
      },
      "source": [
        "print('rojo + negro resulta en',rojo+negro)"
      ],
      "execution_count": null,
      "outputs": [
        {
          "output_type": "stream",
          "text": [
            "rojo + negro resulta en [255, 0, 0, 0, 0, 0]\n"
          ],
          "name": "stdout"
        }
      ]
    },
    {
      "cell_type": "markdown",
      "metadata": {
        "id": "eDHBH7yytScA"
      },
      "source": [
        "Una solución a esto es crear una función que tome dos listas y las sume entrada por entrada"
      ]
    },
    {
      "cell_type": "code",
      "metadata": {
        "id": "hXazNoYztScA"
      },
      "source": [
        "def suma_vectores(a,b):\n",
        "    return [i+j for i,j in zip(a,b)]"
      ],
      "execution_count": null,
      "outputs": []
    },
    {
      "cell_type": "code",
      "metadata": {
        "id": "knLhRKBvtScA",
        "outputId": "ffafe099-f2e7-4e72-b31a-7365953384ef"
      },
      "source": [
        "print('suma_vectores(rojo,negro) nos devuelve',suma_vectores(rojo,negro))"
      ],
      "execution_count": null,
      "outputs": [
        {
          "output_type": "stream",
          "text": [
            "suma_vectores(rojo,negro) nos devuelve [255, 0, 0]\n"
          ],
          "name": "stdout"
        }
      ]
    },
    {
      "cell_type": "code",
      "metadata": {
        "id": "9aHS1hgJtScA",
        "outputId": "d6ba7f79-67e9-4491-de18-a77975a8355a"
      },
      "source": [
        "print('suma_vectores(verde,negro) nos devuelve',suma_vectores([0,255,0],negro))"
      ],
      "execution_count": null,
      "outputs": [
        {
          "output_type": "stream",
          "text": [
            "suma_vectores(verde,negro) nos devuelve [0, 255, 0]\n"
          ],
          "name": "stdout"
        }
      ]
    },
    {
      "cell_type": "markdown",
      "metadata": {
        "id": "mjmT43zttScB"
      },
      "source": [
        "Al parecer con esta función gran parte de nuestros problemas se resuelven sin embargo a largo plazo nos será más últil comenzar a usar **Numpy**.  \n",
        "\n",
        "**Numpy** es una biblioteca de Python que nos soporte para poder operar entre vectores y matrices. De igual manera contiene funciones matemáticas de alto nivel y que también podrán operar con los vectores y matrices. "
      ]
    },
    {
      "cell_type": "markdown",
      "metadata": {
        "id": "FZlXclyOtScB"
      },
      "source": [
        "Lo primero que tenemos que hacer es importar la biblioteca numpy"
      ]
    },
    {
      "cell_type": "code",
      "metadata": {
        "id": "t2kb25p5tScB"
      },
      "source": [
        "import numpy as np"
      ],
      "execution_count": null,
      "outputs": []
    },
    {
      "cell_type": "markdown",
      "metadata": {
        "id": "i3V-7m-itScB"
      },
      "source": [
        "Después vamos a declarar nuestras listas ya creadas como *numpy.arrays*"
      ]
    },
    {
      "cell_type": "code",
      "metadata": {
        "id": "jb2VuY2BtScC"
      },
      "source": [
        "rojo = np.array(rojo)\n",
        "negro = np.array(negro)"
      ],
      "execution_count": null,
      "outputs": []
    },
    {
      "cell_type": "markdown",
      "metadata": {
        "id": "VhXozU4ItScC"
      },
      "source": [
        "Si verificamos el tipo de la función entonces notaremos que es una instancia de *numpy.ndarray*"
      ]
    },
    {
      "cell_type": "code",
      "metadata": {
        "id": "94ddrBfVtScC",
        "outputId": "6bdb3b6d-4ad4-4f27-f780-e059b19243bc"
      },
      "source": [
        "print(type(rojo))"
      ],
      "execution_count": null,
      "outputs": [
        {
          "output_type": "stream",
          "text": [
            "<class 'numpy.ndarray'>\n"
          ],
          "name": "stdout"
        }
      ]
    },
    {
      "cell_type": "markdown",
      "metadata": {
        "id": "ujQDvZEFtScD"
      },
      "source": [
        "Finalmente, notemos que *rojo* y *negro* ya no son listas de Python sino instancias de numpy. Entre ndarrays el operador $+$ funcionará exactamente como se espera entre vectores, entrada a entrada:"
      ]
    },
    {
      "cell_type": "code",
      "metadata": {
        "id": "TfyZk7s2tScD",
        "outputId": "8c174b6a-cabf-413a-9721-1fa5daa535d8"
      },
      "source": [
        "print('La suma de los numpy array rojo + negro es', rojo+negro)"
      ],
      "execution_count": null,
      "outputs": [
        {
          "output_type": "stream",
          "text": [
            "La suma de los numpy array rojo + negro es [255   0   0]\n"
          ],
          "name": "stdout"
        }
      ]
    },
    {
      "cell_type": "markdown",
      "metadata": {
        "id": "EXUn7QmStScD"
      },
      "source": [
        "  "
      ]
    },
    {
      "cell_type": "markdown",
      "metadata": {
        "id": "g82e0SOktScD"
      },
      "source": [
        "Por completez vamos a realizar un ejercicio más. \n",
        "\n",
        "Sean $\\mathbf{a}=(1,2,3,4,5)$, $\\mathbf{b} = (-1,-2,-3,-4,5)$ y $\\mathbf{c} = \\mathbf{a}+\\mathbf{b} = (0,0,0,0,10)$. Vamos a replicar este cálculo en Python con ayuda de numpy. "
      ]
    },
    {
      "cell_type": "code",
      "metadata": {
        "id": "hjnjqTvgtScE"
      },
      "source": [
        "a = np.array([1,2,3,4,5]) #declaramos el arreglo/vector a\n",
        "\n",
        "b = np.array([-1,-2,-3,-4,5]) #declaramos el arreglo/vector b"
      ],
      "execution_count": null,
      "outputs": []
    },
    {
      "cell_type": "code",
      "metadata": {
        "id": "Y_Ar_CpZtScE"
      },
      "source": [
        "c = a+b"
      ],
      "execution_count": null,
      "outputs": []
    },
    {
      "cell_type": "code",
      "metadata": {
        "id": "RbJ5--pxtScE",
        "outputId": "8462b4e9-74a4-4efe-ce8a-aa4865e14aa1"
      },
      "source": [
        "print('La el vector c = a+b =',c)"
      ],
      "execution_count": null,
      "outputs": [
        {
          "output_type": "stream",
          "text": [
            "La el vector c = a+b = [ 0  0  0  0 10]\n"
          ],
          "name": "stdout"
        }
      ]
    },
    {
      "cell_type": "markdown",
      "metadata": {
        "id": "jP-bnqpAtScE"
      },
      "source": [
        "  "
      ]
    },
    {
      "cell_type": "markdown",
      "metadata": {
        "id": "uye1RP1NtScE"
      },
      "source": [
        "**Problema:**\n",
        "\n",
        "Puedes ir al sitio [siguiente sitio](https://www.w3schools.com/colors/colors_rgb.asp), el sitio te permite introducir un vector del modelo RGB y te muestra el color al que corresponde.  \n",
        "\n",
        "Ahora, primer confirma a qué color corresponden el vector $\\vec{a} = [0,0,255]$ y así responde:\n",
        "* ¿Qué color obtienes si sumas $\\vec{rojo}+\\vec{verde}+\\vec{a}$? \n",
        "* ¿Qué color obtienes sumando $\\vec{rojo}+\\vec{verde}$?\n",
        "* ¿Qué color obtienes sumando $\\vec{negro}-\\vec{a}$? ¿Tiene sentido este resultado dentro del modelo aditivo RGB?"
      ]
    }
  ]
}